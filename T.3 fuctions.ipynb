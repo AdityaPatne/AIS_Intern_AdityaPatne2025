{
 "cells": [
  {
   "cell_type": "markdown",
   "id": "351b33a8-324a-4945-838d-5c5434d86086",
   "metadata": {},
   "source": [
    "# FUCTIONS"
   ]
  },
  {
   "cell_type": "markdown",
   "id": "33fd8267-b37f-4d2f-8b3f-ec18bbb05dac",
   "metadata": {},
   "source": [
    "1.Q\n",
    "  Write a Python function to find the maximum of from given \n"
   ]
  },
  {
   "cell_type": "code",
   "execution_count": 4,
   "id": "4fbace28-1b52-43f8-b073-6fbadc4355e1",
   "metadata": {},
   "outputs": [
    {
     "name": "stdout",
     "output_type": "stream",
     "text": [
      "9\n"
     ]
    }
   ],
   "source": [
    "numbers =[1,2,4,6,3,9,2]\n",
    "maximum_number = max(numbers)\n",
    "print(maximum_number)"
   ]
  },
  {
   "cell_type": "markdown",
   "id": "fb99ff08-5517-47a2-ab4b-f7ff698d6010",
   "metadata": {},
   "source": [
    "\n",
    "Q .2)Write a Python function to sum all the numbers in a list.  Sample List : [8, 2, 3, 0, 7] Expected Output : 20 \n"
   ]
  },
  {
   "cell_type": "code",
   "execution_count": 5,
   "id": "abc313e3-3565-4553-bf8b-6230aa6b8cf7",
   "metadata": {},
   "outputs": [
    {
     "name": "stdout",
     "output_type": "stream",
     "text": [
      "20\n"
     ]
    }
   ],
   "source": [
    "list=[8,2,3,0,7]\n",
    "res = sum(list)\n",
    "print(res)"
   ]
  },
  {
   "cell_type": "markdown",
   "id": "a0916591-b0a5-493b-8270-fa85b8b4e8ac",
   "metadata": {},
   "source": [
    "\n",
    "Q.3)Write a Python function that takes a list and returns a new list with distinct elements from the first list.  Sample List : [1,2,3,3,3,3,4,5] Unique List : [1, 2, 3, 4, 5]"
   ]
  },
  {
   "cell_type": "code",
   "execution_count": 11,
   "id": "bb7a2b87-9b4d-48f4-b4a3-ce0e4223a873",
   "metadata": {},
   "outputs": [
    {
     "name": "stdout",
     "output_type": "stream",
     "text": [
      "{1, 2, 3, 4, 5}\n"
     ]
    }
   ],
   "source": [
    "list = [1,2,3,3,3,4,4,4,5]\n",
    "def new_list(list):\n",
    "     x=[]\n",
    "     x=(set(list))\n",
    "     print(x)\n",
    "new_list(list)\n",
    "\n"
   ]
  },
  {
   "cell_type": "markdown",
   "id": "c2708483-3825-4dbc-955f-b5b4a0e14844",
   "metadata": {},
   "source": [
    "\n",
    "Q.4)Write a Python function total number of  Combinations. \n",
    "\n",
    " * Ex. a,b,c\n",
    " * Ans: 4 : ab,ac,bc,ac "
   ]
  },
  {
   "cell_type": "code",
   "execution_count": 4,
   "id": "bc25440c-1bda-4b08-8d6c-829329e5d46a",
   "metadata": {},
   "outputs": [
    {
     "name": "stdin",
     "output_type": "stream",
     "text": [
      "enter the numbers 123\n"
     ]
    },
    {
     "name": "stdout",
     "output_type": "stream",
     "text": [
      "1 2 3 1 2\n",
      "1 2 3 1 3\n",
      "1 2 3 2 1\n",
      "1 2 3 2 3\n",
      "1 2 3 3 1\n",
      "1 2 3 3 2\n",
      "1 3 2 1 2\n",
      "1 3 2 1 3\n",
      "1 3 2 2 1\n",
      "1 3 2 2 3\n",
      "1 3 2 3 1\n",
      "1 3 2 3 2\n",
      "2 1 3 1 2\n",
      "2 1 3 1 3\n",
      "2 1 3 2 1\n",
      "2 1 3 2 3\n",
      "2 1 3 3 1\n",
      "2 1 3 3 2\n",
      "2 3 1 1 2\n",
      "2 3 1 1 3\n",
      "2 3 1 2 1\n",
      "2 3 1 2 3\n",
      "2 3 1 3 1\n",
      "2 3 1 3 2\n",
      "3 1 2 1 2\n",
      "3 1 2 1 3\n",
      "3 1 2 2 1\n",
      "3 1 2 2 3\n",
      "3 1 2 3 1\n",
      "3 1 2 3 2\n",
      "3 2 1 1 2\n",
      "3 2 1 1 3\n",
      "3 2 1 2 1\n",
      "3 2 1 2 3\n",
      "3 2 1 3 1\n",
      "3 2 1 3 2\n"
     ]
    }
   ],
   "source": [
    "def comb(L):\n",
    "    n = len(L)\n",
    "    for i in range(n): \n",
    "        for j in range(n): \n",
    "            for k in range(n):  \n",
    "                for l in range(n):\n",
    "                    for m in range(n):\n",
    "                        if (i!=j and j!=k and i!=k and n!=m and m!=l): \n",
    "                            print(L[i], L[j], L[k], L[l], L[m])\n",
    "comb(input(\"enter the numbers\"))\n"
   ]
  },
  {
   "cell_type": "markdown",
   "id": "b19ca7ef-5d61-409d-b879-bec984eb47c3",
   "metadata": {},
   "source": [
    "\n",
    "Q.5)Write a Python function total number of  permutation \n",
    " * Ex. a,b,c\n",
    " * And: 6 : ab,ac,ba,bc,ca,cb \n"
   ]
  },
  {
   "cell_type": "code",
   "execution_count": 31,
   "id": "c1673620-b2b2-46e0-9665-167b2221bb87",
   "metadata": {},
   "outputs": [
    {
     "name": "stdout",
     "output_type": "stream",
     "text": [
      "['abc', 'acb', 'bac', 'bca', 'cab', 'cba']\n"
     ]
    }
   ],
   "source": [
    "import itertools\n",
    "\n",
    "\n",
    "def permutation(a):\n",
    "    li = [''.join(x) for x in itertools.permutations(a)]\n",
    "    return print(li)\n",
    "s = (\"a\",\"b\",\"c\")\n",
    "permutation(a)"
   ]
  },
  {
   "cell_type": "markdown",
   "id": "30452c21-41ee-4b23-9ed5-3621c57bd871",
   "metadata": {},
   "source": [
    "Q.6) Exercise 5: Define a function which counts vowels and consonant in a word.\n",
    "  input :  statistics \n",
    " * Expected output : Count of vowel is = 3 Count of consonant is = 7"
   ]
  },
  {
   "cell_type": "code",
   "execution_count": 3,
   "id": "8c5f491d-e8a9-44e5-aa4c-2c8dba3ed6fe",
   "metadata": {},
   "outputs": [
    {
     "name": "stdin",
     "output_type": "stream",
     "text": [
      "Enter a word adi\n"
     ]
    },
    {
     "name": "stdout",
     "output_type": "stream",
     "text": [
      "Count of vowels is = 2\n",
      "Count of consonants is = 1\n",
      "Count of vowels is = 3\n",
      "Count of consonants is = 7\n"
     ]
    }
   ],
   "source": [
    "def alphabets(word):\n",
    "    vowels=\"aeiouAEIOU\"\n",
    "    vowel_count=0\n",
    "    consonant_count=0\n",
    "    for char in word:\n",
    "        if char in vowels:\n",
    "            vowel_count+=1\n",
    "        else:\n",
    "            consonant_count+=1\n",
    "    print(f\"Count of vowels is = {vowel_count}\")\n",
    "    print(f\"Count of consonants is = {consonant_count}\")\n",
    "    \n",
    "word = input(\"Enter a word\")\n",
    "alphabets(word)\n",
    "alphabets(\"statistics\")\n"
   ]
  },
  {
   "cell_type": "markdown",
   "id": "561f8b2a-6ccc-47cc-a3df-c8f55a6bb788",
   "metadata": {},
   "source": [
    " Q 7.) Define a function that accepts lowercase words and returns uppercase words.\n",
    " * Input:= statistics \n",
    " * Expected output  Result is = STATISTICS"
   ]
  },
  {
   "cell_type": "code",
   "execution_count": 5,
   "id": "dc87fdd6-cc68-4e68-b1a1-4c7a4c32a248",
   "metadata": {},
   "outputs": [
    {
     "name": "stdin",
     "output_type": "stream",
     "text": [
      "Enter a word   aditya\n"
     ]
    },
    {
     "data": {
      "text/plain": [
       "'ADITYA'"
      ]
     },
     "execution_count": 5,
     "metadata": {},
     "output_type": "execute_result"
    }
   ],
   "source": [
    "def uppercase(word):\n",
    "    return word.upper()\n",
    "word = input(\"Enter a word  \")\n",
    "uppercase(word)"
   ]
  },
  {
   "cell_type": "markdown",
   "id": "5bb0a443-291d-49b6-a76d-4f300870ef2b",
   "metadata": {},
   "source": [
    "Q 8.) count lower case and upper case  letter.\n",
    "  * Ex : STatiStiCS\n",
    "  * Ans: upper case :\n",
    "  * Lower case: 5"
   ]
  },
  {
   "cell_type": "code",
   "execution_count": 7,
   "id": "8151c52b-bef8-497b-b3e3-960e96c719c4",
   "metadata": {},
   "outputs": [
    {
     "name": "stdout",
     "output_type": "stream",
     "text": [
      "Count of Lower-Case is = 5\n",
      "Count of Upper-Case is = 5\n"
     ]
    }
   ],
   "source": [
    "def counting(word):\n",
    "    lower_count=0\n",
    "    upper_count=0\n",
    "    for char in word:\n",
    "        if char.islower():\n",
    "            lower_count+=1\n",
    "        else:\n",
    "            upper_count+=1\n",
    "    print(f\"Count of Lower-Case is = {lower_count}\")\n",
    "    print(f\"Count of Upper-Case is = {upper_count}\")\n",
    "\n",
    "counting(\"STatiStiCS\")"
   ]
  },
  {
   "cell_type": "code",
   "execution_count": null,
   "id": "b88bc39e-5d34-477c-9ca4-76c643fb1395",
   "metadata": {},
   "outputs": [],
   "source": []
  }
 ],
 "metadata": {
  "kernelspec": {
   "display_name": "Python 3 (ipykernel)",
   "language": "python",
   "name": "python3"
  },
  "language_info": {
   "codemirror_mode": {
    "name": "ipython",
    "version": 3
   },
   "file_extension": ".py",
   "mimetype": "text/x-python",
   "name": "python",
   "nbconvert_exporter": "python",
   "pygments_lexer": "ipython3",
   "version": "3.13.1"
  }
 },
 "nbformat": 4,
 "nbformat_minor": 5
}
