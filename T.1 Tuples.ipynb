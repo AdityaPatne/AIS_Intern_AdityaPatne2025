{
 "cells": [
  {
   "cell_type": "markdown",
   "id": "f9f1b61b-d00c-415c-a504-8ecd8cb72615",
   "metadata": {},
   "source": [
    "# Tuples In Python"
   ]
  },
  {
   "cell_type": "markdown",
   "id": "7c66c9fb-2d0a-444d-abff-5e182b2a97ca",
   "metadata": {},
   "source": [
    "*Maltipal opretions in tuples\n",
    "1. Accessing elements\n",
    "2. Slicing\n",
    "3. Concatenation\n",
    "4. Repetition\n",
    "5. Counting , etc.\n",
    "   "
   ]
  },
  {
   "cell_type": "markdown",
   "id": "882e76b9-3c8f-4a7a-89bb-916e8d3dd95d",
   "metadata": {},
   "source": [
    "### accessing "
   ]
  },
  {
   "cell_type": "code",
   "execution_count": 1,
   "id": "7b48014d-b670-4df2-8fbe-75c2205ff827",
   "metadata": {},
   "outputs": [
    {
     "name": "stdout",
     "output_type": "stream",
     "text": [
      "33\n"
     ]
    }
   ],
   "source": [
    "tuple= ( 12,24,9,33,83,88,23,46,32,93)\n",
    "print(tuple[3])"
   ]
  },
  {
   "cell_type": "markdown",
   "id": "bfeeebd1-8b57-4878-8db9-71db82c4a791",
   "metadata": {},
   "source": [
    "### INDEXING "
   ]
  },
  {
   "cell_type": "code",
   "execution_count": 4,
   "id": "0ff19bd9-080a-400c-895b-a170a90fcd2f",
   "metadata": {},
   "outputs": [
    {
     "name": "stdout",
     "output_type": "stream",
     "text": [
      "(3, 9, 20)\n",
      "(37, 87, 3)\n"
     ]
    }
   ],
   "source": [
    "tuple = ( 37,87,3,9,20,78,45,78)\n",
    "\n",
    "print(tuple [2:5]) \n",
    "\n",
    "print(tuple [:-5]) # negetive indexing"
   ]
  },
  {
   "cell_type": "markdown",
   "id": "be9eb0b1-e444-4ffa-964d-30f94c1b5a87",
   "metadata": {},
   "source": [
    "### counting"
   ]
  },
  {
   "cell_type": "code",
   "execution_count": 8,
   "id": "b565bac6-67b1-410d-86ce-1109e15f30ae",
   "metadata": {},
   "outputs": [
    {
     "name": "stdout",
     "output_type": "stream",
     "text": [
      "2\n",
      "1\n"
     ]
    }
   ],
   "source": [
    "tuple=( 15,16,17,11,19,15,17,20,11)\n",
    "\n",
    "print(tuple.count(11))\n",
    "\n",
    "print(tuple.count(19))"
   ]
  },
  {
   "cell_type": "markdown",
   "id": "9550c948-7259-4775-8f70-23a6dac41700",
   "metadata": {},
   "source": [
    "### indexing"
   ]
  },
  {
   "cell_type": "code",
   "execution_count": 10,
   "id": "5b6ff237-c1e8-40da-8c99-876bb7134d53",
   "metadata": {},
   "outputs": [
    {
     "name": "stdout",
     "output_type": "stream",
     "text": [
      "1\n",
      "3\n"
     ]
    }
   ],
   "source": [
    "tuple = (1,11,31,33,2,4,5,12,33,)\n",
    "\n",
    "print(tuple.index(11))\n",
    "print(tuple.index(33))"
   ]
  },
  {
   "cell_type": "markdown",
   "id": "e4dbcfcc-3f8a-4d9d-acf9-cbd8ef10316a",
   "metadata": {},
   "source": [
    "### slicing"
   ]
  },
  {
   "cell_type": "code",
   "execution_count": 11,
   "id": "8c546286-27c2-4f72-b3db-b26f42216c86",
   "metadata": {},
   "outputs": [
    {
     "name": "stdout",
     "output_type": "stream",
     "text": [
      "(2, 3, 4)\n"
     ]
    }
   ],
   "source": [
    "tuple = (1,2,3,4,5,6,6,9,8)\n",
    "\n",
    "print(tuple[1:4])"
   ]
  },
  {
   "cell_type": "markdown",
   "id": "7131e37a-819e-42a7-8d3b-73ae08ca3ec6",
   "metadata": {},
   "source": [
    "### combine tuple ( + )"
   ]
  },
  {
   "cell_type": "code",
   "execution_count": 12,
   "id": "94eef026-d71c-4720-9fdc-8b5cfdb3b7ac",
   "metadata": {},
   "outputs": [
    {
     "name": "stdout",
     "output_type": "stream",
     "text": [
      "(23, 45, 56, 67, 78, 89, 21, 32, 43, 54, 65, 60)\n"
     ]
    }
   ],
   "source": [
    "tuple1 =(23,45,56,67,78,89)\n",
    "tuple2 =(21,32,43,54,65,60)\n",
    "\n",
    "tuple3 = tuple1 + tuple2\n",
    "\n",
    "print(tuple3)"
   ]
  },
  {
   "cell_type": "code",
   "execution_count": null,
   "id": "17060a51-7b44-4695-9736-59e723a88748",
   "metadata": {},
   "outputs": [],
   "source": []
  }
 ],
 "metadata": {
  "kernelspec": {
   "display_name": "Python 3 (ipykernel)",
   "language": "python",
   "name": "python3"
  },
  "language_info": {
   "codemirror_mode": {
    "name": "ipython",
    "version": 3
   },
   "file_extension": ".py",
   "mimetype": "text/x-python",
   "name": "python",
   "nbconvert_exporter": "python",
   "pygments_lexer": "ipython3",
   "version": "3.13.1"
  }
 },
 "nbformat": 4,
 "nbformat_minor": 5
}
