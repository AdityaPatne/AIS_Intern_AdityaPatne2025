{
 "cells": [
  {
   "cell_type": "markdown",
   "id": "c4833f4d-4b3f-4b28-a017-93d02adee773",
   "metadata": {},
   "source": [
    "# SETS IN PYTHON"
   ]
  },
  {
   "cell_type": "markdown",
   "id": "690ec574-c65a-43cf-a312-b42e8b74f7cf",
   "metadata": {},
   "source": [
    "* In sets we con use dictionary {..}\n",
    "* sam following opretions in sets\n",
    "  1. adding element\n",
    "  2. removing elements\n",
    "  3. union of elements\n",
    "  4. intrsection of elements ,etc.\n",
    "     "
   ]
  },
  {
   "cell_type": "markdown",
   "id": "55968661-9c2c-45e0-b0b4-ef499fbdf41a",
   "metadata": {},
   "source": [
    "### adding element"
   ]
  },
  {
   "cell_type": "code",
   "execution_count": 2,
   "id": "42e58836-6264-4cd3-978a-f9e7bf81e351",
   "metadata": {},
   "outputs": [
    {
     "name": "stdout",
     "output_type": "stream",
     "text": [
      "{'d', 'a', 'b', 'f', 'c', 'e'}\n"
     ]
    }
   ],
   "source": [
    "set={ \"a\",\"b\",\"c\",\"d\",\"e\"}\n",
    "set.add(\"f\")\n",
    "\n",
    "print(set)"
   ]
  },
  {
   "cell_type": "markdown",
   "id": "d3f1948f-69d1-49e0-9aa2-ee34678e69b1",
   "metadata": {},
   "source": [
    "### removing elements"
   ]
  },
  {
   "cell_type": "code",
   "execution_count": 3,
   "id": "43874c0e-647c-446c-ac74-2d9748c2f5c2",
   "metadata": {},
   "outputs": [
    {
     "name": "stdout",
     "output_type": "stream",
     "text": [
      "{'d', 'a', 'b', 'e'}\n"
     ]
    }
   ],
   "source": [
    "set={ \"a\",\"b\",\"c\",\"d\",\"e\"}\n",
    "set.remove(\"c\")\n",
    "\n",
    "print(set)"
   ]
  },
  {
   "cell_type": "code",
   "execution_count": 4,
   "id": "7e22a582-acef-4184-a88e-344dc43e6b5c",
   "metadata": {},
   "outputs": [
    {
     "name": "stdout",
     "output_type": "stream",
     "text": [
      "{1, 'X', 2, 3, 4, 'Z', 'y', 'u'}\n"
     ]
    }
   ],
   "source": [
    "set1 = {\"u\",\"X\",\"y\",\"Z\"}\n",
    "set2 = {1,2,3,4}\n",
    "\n",
    "set3 = set1.union(set2)\n",
    "\n",
    "print(set3)"
   ]
  },
  {
   "cell_type": "markdown",
   "id": "ac7556a3-e50a-41e5-be81-e48280c2489a",
   "metadata": {},
   "source": [
    "### intersection"
   ]
  },
  {
   "cell_type": "code",
   "execution_count": 5,
   "id": "a692103b-8f8e-44b7-a5cc-df2b70d49afb",
   "metadata": {},
   "outputs": [
    {
     "name": "stdout",
     "output_type": "stream",
     "text": [
      "{8, 2, 4}\n"
     ]
    }
   ],
   "source": [
    "set1 = {\"u\",\"X\",\"y\",\"Z\",2,4,8}\n",
    "set2 = {1,2,3,4,\"a\",5,\"Y\",8,\"x\"}\n",
    "\n",
    "set3 = set1.intersection(set2)\n",
    "\n",
    "print(set3)"
   ]
  },
  {
   "cell_type": "markdown",
   "id": "3f767349-a4e5-4ec0-9ce8-1bffeda8156f",
   "metadata": {},
   "source": [
    "### difference"
   ]
  },
  {
   "cell_type": "code",
   "execution_count": 6,
   "id": "8f4131f2-45fd-4152-898f-a012d8503312",
   "metadata": {},
   "outputs": [
    {
     "name": "stdout",
     "output_type": "stream",
     "text": [
      "{'X', 'u', 'y', 'Z'}\n"
     ]
    }
   ],
   "source": [
    "set1 = {\"u\",\"X\",\"y\",\"Z\",2,4,8}\n",
    "set2 = {1,2,3,4,\"a\",5,\"Y\",8,\"x\"}\n",
    "\n",
    "set3 = set1.difference(set2)\n",
    "\n",
    "print(set3)"
   ]
  },
  {
   "cell_type": "code",
   "execution_count": null,
   "id": "e356b442-ae54-419d-a1aa-8aab864bf603",
   "metadata": {},
   "outputs": [],
   "source": []
  }
 ],
 "metadata": {
  "kernelspec": {
   "display_name": "Python 3 (ipykernel)",
   "language": "python",
   "name": "python3"
  },
  "language_info": {
   "codemirror_mode": {
    "name": "ipython",
    "version": 3
   },
   "file_extension": ".py",
   "mimetype": "text/x-python",
   "name": "python",
   "nbconvert_exporter": "python",
   "pygments_lexer": "ipython3",
   "version": "3.13.1"
  }
 },
 "nbformat": 4,
 "nbformat_minor": 5
}
