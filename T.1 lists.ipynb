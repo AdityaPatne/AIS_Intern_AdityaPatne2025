{
 "cells": [
  {
   "cell_type": "markdown",
   "id": "b81d9c0e-0ad0-4141-b663-bc5d5b5b1ff7",
   "metadata": {},
   "source": [
    "# LISTS IN PYTHON"
   ]
  },
  {
   "cell_type": "markdown",
   "id": "f6e8a574-07ec-4edc-9e58-a6dd5b9be6c4",
   "metadata": {},
   "source": [
    "* List opretions\n",
    "1. Change elements Value\n",
    "2. Adding elements\n",
    "3. Insert elements\n",
    "4. Removingn elemenets\n",
    "5. Modifying elements ,etc."
   ]
  },
  {
   "cell_type": "markdown",
   "id": "69047f64-b856-4292-a0b8-a08ee8a5fe4e",
   "metadata": {},
   "source": [
    "### accessing elements"
   ]
  },
  {
   "cell_type": "code",
   "execution_count": 1,
   "id": "44fc0a17-05ec-4024-9910-5625b950e6b4",
   "metadata": {},
   "outputs": [
    {
     "name": "stdout",
     "output_type": "stream",
     "text": [
      "rohan\n",
      "om\n"
     ]
    }
   ],
   "source": [
    "list = [\"rohan\",\"amit\",\"om\",\"karan\",\"atharva\",\"adi\"]\n",
    "print (list[0])\n",
    "print (list[2])"
   ]
  },
  {
   "cell_type": "markdown",
   "id": "9a0b9ec8-ce42-45ea-9c90-61185c18b7dd",
   "metadata": {},
   "source": [
    "### modifying elements"
   ]
  },
  {
   "cell_type": "code",
   "execution_count": 2,
   "id": "0aaf6ab4-ae53-4b27-8ec3-4d6a49d9ab71",
   "metadata": {},
   "outputs": [
    {
     "name": "stdout",
     "output_type": "stream",
     "text": [
      "['rohan', 'sham', 'om', 'karan', 'atharva', 'adi']\n"
     ]
    }
   ],
   "source": [
    "list = [\"rohan\",\"amit\",\"om\",\"karan\",\"atharva\",\"adi\"]\n",
    "\n",
    "list[1]=\"sham\"\n",
    "print(list)\n"
   ]
  },
  {
   "cell_type": "markdown",
   "id": "10608a75-b186-4c9c-b48b-3e2d02216675",
   "metadata": {},
   "source": [
    "### Add List elements"
   ]
  },
  {
   "cell_type": "code",
   "execution_count": 3,
   "id": "7d4462b8-266c-47a9-9a28-7e940c2abc28",
   "metadata": {},
   "outputs": [
    {
     "name": "stdout",
     "output_type": "stream",
     "text": [
      "['rohan', 'amit', 'om', 'karan', 'atharva', 'adi', 'neha']\n",
      "['rohan', 'aki', 'amit', 'om', 'karan', 'atharva', 'adi', 'neha']\n"
     ]
    }
   ],
   "source": [
    "list = [\"rohan\",\"amit\",\"om\",\"karan\",\"atharva\",\"adi\"]\n",
    "\n",
    "list.append(\"neha\")\n",
    "print(list)\n",
    "\n",
    "list.insert(1,\"aki\")\n",
    "print(list)"
   ]
  },
  {
   "cell_type": "markdown",
   "id": "a3832f15-391c-4730-9937-da66b72a57e2",
   "metadata": {},
   "source": [
    "### removing elements"
   ]
  },
  {
   "cell_type": "code",
   "execution_count": 4,
   "id": "edee6848-8c63-48a7-89a0-a23008b3d935",
   "metadata": {},
   "outputs": [
    {
     "name": "stdout",
     "output_type": "stream",
     "text": [
      "['rohan', 'aki', 'amit', 'karan', 'atharva', 'adi']\n",
      "['rohan', 'aki', 'amit', 'karan', 'atharva']\n"
     ]
    }
   ],
   "source": [
    "list = [\"rohan\",\"aki\",\"amit\",\"om\",\"karan\",\"atharva\",\"adi\"]\n",
    "\n",
    "list.remove(\"om\")\n",
    "print(list)\n",
    "\n",
    "list.pop(5)\n",
    "print(list)"
   ]
  },
  {
   "cell_type": "markdown",
   "id": "798763de-77dc-4b7a-ae85-1e17e666faf8",
   "metadata": {},
   "source": [
    "### slicing elements"
   ]
  },
  {
   "cell_type": "code",
   "execution_count": 5,
   "id": "e658743d-f659-4f66-bb90-8aa780fd43a9",
   "metadata": {},
   "outputs": [
    {
     "name": "stdout",
     "output_type": "stream",
     "text": [
      "['amit']\n"
     ]
    }
   ],
   "source": [
    "list = [\"rohan\",\"amit\",\"om\",\"karan\",\"atharva\",\"adi\"]\n",
    "\n",
    "print(list[1:2:3])\n"
   ]
  },
  {
   "cell_type": "markdown",
   "id": "912c6a36-a2d3-4e0f-bb3d-e66ea3abea0c",
   "metadata": {},
   "source": [
    "### soting elements"
   ]
  },
  {
   "cell_type": "code",
   "execution_count": 6,
   "id": "e871fa70-de60-45a5-90e2-4b73911a76bb",
   "metadata": {},
   "outputs": [
    {
     "name": "stdout",
     "output_type": "stream",
     "text": [
      "['adi', 'amit', 'atharva', 'karan', 'om', 'rohan']\n"
     ]
    }
   ],
   "source": [
    "list = [\"rohan\",\"amit\",\"om\",\"karan\",\"atharva\",\"adi\"]\n",
    "\n",
    "list.sort()\n",
    "print(list)\n",
    "\n",
    "list.sort(reverse = True)"
   ]
  },
  {
   "cell_type": "code",
   "execution_count": null,
   "id": "efb4e22f-51ff-48e3-a2e7-0b370f714c27",
   "metadata": {},
   "outputs": [],
   "source": []
  }
 ],
 "metadata": {
  "kernelspec": {
   "display_name": "Python 3 (ipykernel)",
   "language": "python",
   "name": "python3"
  },
  "language_info": {
   "codemirror_mode": {
    "name": "ipython",
    "version": 3
   },
   "file_extension": ".py",
   "mimetype": "text/x-python",
   "name": "python",
   "nbconvert_exporter": "python",
   "pygments_lexer": "ipython3",
   "version": "3.13.1"
  }
 },
 "nbformat": 4,
 "nbformat_minor": 5
}
