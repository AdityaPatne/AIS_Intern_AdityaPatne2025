{
 "cells": [
  {
   "cell_type": "markdown",
   "id": "e3df076a-7e32-4229-93b8-d5d40065b935",
   "metadata": {},
   "source": [
    "# DICTIONARIES IN PYTHON"
   ]
  },
  {
   "cell_type": "markdown",
   "id": "fba7788c-0338-407e-a395-7ec6dc0848de",
   "metadata": {},
   "source": [
    "* Dictionaries aslo show like carly brakets {..}.\n",
    "* same difrent opretions in dictionaries\n",
    "  1. accessing elements\n",
    "  2. adding elements\n",
    "  3. removing elements\n",
    "  4. updating elements , etc."
   ]
  },
  {
   "cell_type": "markdown",
   "id": "5241b5b2-d78d-4d60-aec9-4f0c31d03e28",
   "metadata": {},
   "source": [
    "### accessing "
   ]
  },
  {
   "cell_type": "code",
   "execution_count": 1,
   "id": "0dd5db11-7770-42d5-a8e5-9fc9aac23915",
   "metadata": {},
   "outputs": [
    {
     "name": "stdout",
     "output_type": "stream",
     "text": [
      "78\n"
     ]
    }
   ],
   "source": [
    "dict= {\"akash\":\"boy\",\n",
    "       \"marks\": 78 ,\n",
    "       \"gred\": \"pass\"}\n",
    "print(dict[\"marks\"])"
   ]
  },
  {
   "cell_type": "markdown",
   "id": "58e57e3f-8725-46a2-8498-19b7465526b5",
   "metadata": {},
   "source": [
    "### adding"
   ]
  },
  {
   "cell_type": "code",
   "execution_count": 2,
   "id": "1dacb270-6b9e-458a-a156-d8340f0b864a",
   "metadata": {},
   "outputs": [
    {
     "name": "stdout",
     "output_type": "stream",
     "text": [
      "{'akash': 'boy', 'marks': 78, 'gred': 'pass', 'roll_no': 34}\n"
     ]
    }
   ],
   "source": [
    "dict= {\"akash\":\"boy\",\n",
    "       \"marks\": 78 ,\n",
    "       \"gred\": \"pass\"}\n",
    "\n",
    "dict[\"roll_no\"] = 34\n",
    "\n",
    "print(dict)"
   ]
  },
  {
   "cell_type": "markdown",
   "id": "b2adc712-7cfb-45c2-994f-6ef366f7cba9",
   "metadata": {},
   "source": [
    "### removing"
   ]
  },
  {
   "cell_type": "code",
   "execution_count": 3,
   "id": "bc49434a-a68f-4cb9-850b-5aeccee0b478",
   "metadata": {},
   "outputs": [
    {
     "name": "stdout",
     "output_type": "stream",
     "text": [
      "{'akash': 'boy', 'marks': 78, 'roll_no': 34, 'mo.no': 9224563601}\n"
     ]
    }
   ],
   "source": [
    "dict= {\"akash\":\"boy\",\n",
    "       \"marks\": 78 ,\n",
    "       \"gred\": \"pass\" ,\n",
    "      \"roll_no\": 34 ,\n",
    "      \"mo.no\":9224563601} \n",
    "dict.pop(\"gred\")\n",
    "\n",
    "print(dict)"
   ]
  },
  {
   "cell_type": "markdown",
   "id": "56320ae4-75f3-4e41-a185-0cb66dfb890c",
   "metadata": {},
   "source": [
    "### update"
   ]
  },
  {
   "cell_type": "code",
   "execution_count": 5,
   "id": "b485b648-1ac4-41e5-8dd3-efb39241bf5f",
   "metadata": {},
   "outputs": [
    {
     "name": "stdout",
     "output_type": "stream",
     "text": [
      "{'akash': 'boy', 'marks': 78, 'gred': 'pass', 'roll_no': 34, 'mo.no': 8866996899}\n"
     ]
    }
   ],
   "source": [
    "dict= {\"akash\":\"boy\",\n",
    "       \"marks\": 78 ,\n",
    "       \"gred\": \"pass\" ,\n",
    "      \"roll_no\": 34 ,\n",
    "      \"mo.no\":9224563601} \n",
    "\n",
    "dict.update({\"mo.no\":8866996899})\n",
    "\n",
    "print(dict)"
   ]
  },
  {
   "cell_type": "code",
   "execution_count": null,
   "id": "04b3d67a-01c4-480c-a36b-caeadd77441c",
   "metadata": {},
   "outputs": [],
   "source": []
  }
 ],
 "metadata": {
  "kernelspec": {
   "display_name": "Python 3 (ipykernel)",
   "language": "python",
   "name": "python3"
  },
  "language_info": {
   "codemirror_mode": {
    "name": "ipython",
    "version": 3
   },
   "file_extension": ".py",
   "mimetype": "text/x-python",
   "name": "python",
   "nbconvert_exporter": "python",
   "pygments_lexer": "ipython3",
   "version": "3.13.1"
  }
 },
 "nbformat": 4,
 "nbformat_minor": 5
}
