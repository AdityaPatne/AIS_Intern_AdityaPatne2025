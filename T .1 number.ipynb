{
 "cells": [
  {
   "cell_type": "markdown",
   "id": "01d062e7-e3b0-4232-8838-337580293b75",
   "metadata": {},
   "source": [
    "# NUMBER IN PYTHON"
   ]
  },
  {
   "cell_type": "markdown",
   "id": "c1af3379-3d64-467e-b5b0-aff24c4d41cf",
   "metadata": {},
   "source": [
    "*There are three types numbers\n",
    " 1. integr\n",
    " 2. float\n",
    " 3. complex"
   ]
  },
  {
   "cell_type": "code",
   "execution_count": 1,
   "id": "f8ce9ed5-308c-40d5-b00d-c78a44745d50",
   "metadata": {},
   "outputs": [
    {
     "name": "stdout",
     "output_type": "stream",
     "text": [
      "13\n",
      "62.78\n",
      "21j\n"
     ]
    }
   ],
   "source": [
    "x = 13    # int\n",
    "y = 62.78  # float\n",
    "z = 21j   # complex\n",
    "\n",
    "print(x)\n",
    "print(y)\n",
    "print(z)"
   ]
  },
  {
   "cell_type": "markdown",
   "id": "7c8c63b0-cc6b-48a7-9c73-a4ba4869732d",
   "metadata": {},
   "source": [
    "### addition"
   ]
  },
  {
   "cell_type": "code",
   "execution_count": 5,
   "id": "f2bded3a-513c-49a6-9d58-3ca480cac10b",
   "metadata": {},
   "outputs": [
    {
     "name": "stdout",
     "output_type": "stream",
     "text": [
      "(75.78+21j)\n"
     ]
    }
   ],
   "source": [
    "x = 13    # int\n",
    "y = 62.78  # float\n",
    "z = 21j   # complex\n",
    "\n",
    "print(x+y+z)\n"
   ]
  },
  {
   "cell_type": "markdown",
   "id": "79a93e99-d802-4478-a872-dbbec2dd2255",
   "metadata": {},
   "source": [
    "### substraction"
   ]
  },
  {
   "cell_type": "code",
   "execution_count": 4,
   "id": "36a8b0de-fbdd-4125-85cc-41375bd2d6ef",
   "metadata": {},
   "outputs": [
    {
     "name": "stdout",
     "output_type": "stream",
     "text": [
      "(8.219999999999999-21j)\n"
     ]
    }
   ],
   "source": [
    "x = 13    # int\n",
    "y = 4.78  # float\n",
    "z = 21j   # complex\n",
    "\n",
    "print(x-y-z)"
   ]
  },
  {
   "cell_type": "markdown",
   "id": "a5b8c80d-694a-4911-966f-68ba5558b7f0",
   "metadata": {},
   "source": [
    "### multiplication"
   ]
  },
  {
   "cell_type": "code",
   "execution_count": 3,
   "id": "c9f230ee-f431-44f0-b43a-ce4eca1b4466",
   "metadata": {},
   "outputs": [
    {
     "name": "stdout",
     "output_type": "stream",
     "text": [
      "985.6599999999999j\n"
     ]
    }
   ],
   "source": [
    "x = 34    # int\n",
    "y = 2.23 # float\n",
    "z = 13j   # complex\n",
    "\n",
    "print(x*y*z)"
   ]
  },
  {
   "cell_type": "markdown",
   "id": "76eadd97-6fac-43ca-9f58-8b8344214d21",
   "metadata": {},
   "source": [
    "### division"
   ]
  },
  {
   "cell_type": "code",
   "execution_count": 2,
   "id": "b2e1071f-f5b5-4735-a7bc-941f57a7da21",
   "metadata": {},
   "outputs": [
    {
     "name": "stdout",
     "output_type": "stream",
     "text": [
      "-0.04408296413850868j\n"
     ]
    }
   ],
   "source": [
    "x = 40    # int\n",
    "y = 12.78  # float\n",
    "z = 71j   # complex\n",
    "\n",
    "print(x/y/z)"
   ]
  },
  {
   "cell_type": "code",
   "execution_count": null,
   "id": "37635f39-1178-4012-8f20-e6b8eb7157fe",
   "metadata": {},
   "outputs": [],
   "source": []
  }
 ],
 "metadata": {
  "kernelspec": {
   "display_name": "Python 3 (ipykernel)",
   "language": "python",
   "name": "python3"
  },
  "language_info": {
   "codemirror_mode": {
    "name": "ipython",
    "version": 3
   },
   "file_extension": ".py",
   "mimetype": "text/x-python",
   "name": "python",
   "nbconvert_exporter": "python",
   "pygments_lexer": "ipython3",
   "version": "3.13.1"
  }
 },
 "nbformat": 4,
 "nbformat_minor": 5
}
