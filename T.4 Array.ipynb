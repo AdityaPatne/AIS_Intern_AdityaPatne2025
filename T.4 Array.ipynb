{
 "cells": [
  {
   "cell_type": "markdown",
   "id": "5282af31-9692-4166-83f3-787efc8b98ae",
   "metadata": {},
   "source": [
    "# TASK 4\n"
   ]
  },
  {
   "cell_type": "markdown",
   "id": "0232c6b3-f25e-4d49-b303-2537002c9564",
   "metadata": {},
   "source": [
    " ## 1. Introduction to NumPy"
   ]
  },
  {
   "cell_type": "markdown",
   "id": "5b9dbcd5-e93d-4813-ba62-bfdf2bb2b3f5",
   "metadata": {},
   "source": [
    "\n",
    " *   What NumPy is and why it’s important for numerical computations in Python.\n",
    " *   Installation of NumPy (pip install numpy).\n",
    " *  Understanding its role in data science, machine learning, and scientific computing.\n",
    "\n"
   ]
  },
  {
   "cell_type": "markdown",
   "id": "f77bd2a8-dc48-444e-af43-8e75057e7c63",
   "metadata": {},
   "source": [
    "\n",
    "\n",
    "NumPy is a Python library used for working with arrays.\n",
    "It also has functions for working in domain of linear algebra, fourier transform, and matrices.\n",
    "NumPy was created in 2005 by Travis Oliphant. It is an open source project and you can use it freely.\n",
    "NumPy stands for Numerical Python."
   ]
  },
  {
   "cell_type": "markdown",
   "id": "af1134ff-2201-49af-b77d-ec03b58bbcb5",
   "metadata": {},
   "source": [
    " NumPy is a Python library.\n",
    "NumPy is used for working with arrays.\n",
    "NumPy is short for \"Numerical Python\"."
   ]
  },
  {
   "cell_type": "markdown",
   "id": "cfb8bf08-471e-4936-8fff-1b5b4c647cbf",
   "metadata": {},
   "source": [
    "\n",
    "## 2. Arrays in NumPy"
   ]
  },
  {
   "cell_type": "markdown",
   "id": "0f4a9afe-2d68-41a8-b557-ef6977499884",
   "metadata": {},
   "source": [
    "Understanding the concept of ndarray (N-dimensional array)."
   ]
  },
  {
   "cell_type": "code",
   "execution_count": 2,
   "id": "7a97e993-6e1c-45f0-a35b-322709c730d4",
   "metadata": {},
   "outputs": [
    {
     "name": "stdout",
     "output_type": "stream",
     "text": [
      "[11 12 13 14]\n"
     ]
    }
   ],
   "source": [
    "import numpy \n",
    "\n",
    "arr = numpy.array([11,12,13,14,])\n",
    "\n",
    "print(arr)"
   ]
  },
  {
   "cell_type": "markdown",
   "id": "b722b174-ceb1-42ba-932e-d512c158444e",
   "metadata": {},
   "source": [
    " ### 0-d "
   ]
  },
  {
   "cell_type": "code",
   "execution_count": 24,
   "id": "7b2de4f3-d337-4fef-b174-0312fda705a5",
   "metadata": {},
   "outputs": [
    {
     "name": "stdout",
     "output_type": "stream",
     "text": [
      "3\n"
     ]
    }
   ],
   "source": [
    "import numpy as np\n",
    "\n",
    "arr = np.array(3)\n",
    "print(arr)"
   ]
  },
  {
   "cell_type": "markdown",
   "id": "369ce7e0-38b2-49a5-9dea-88586cf85eaf",
   "metadata": {},
   "source": [
    "### 1-d"
   ]
  },
  {
   "cell_type": "code",
   "execution_count": 25,
   "id": "d9016c34-ebfc-4367-9d0a-c979ee62bd12",
   "metadata": {},
   "outputs": [
    {
     "name": "stdout",
     "output_type": "stream",
     "text": [
      "[2 3 4]\n"
     ]
    }
   ],
   "source": [
    "import numpy as np\n",
    "arr = np. array([2,3,4])\n",
    "print(arr)"
   ]
  },
  {
   "cell_type": "markdown",
   "id": "f71daac5-1bb3-4338-b96a-18ac4435d4e3",
   "metadata": {},
   "source": [
    "### 2-d"
   ]
  },
  {
   "cell_type": "code",
   "execution_count": 28,
   "id": "cd1082c0-0bef-41c5-9b86-fd725b881439",
   "metadata": {},
   "outputs": [
    {
     "name": "stdout",
     "output_type": "stream",
     "text": [
      "[[1 2 3]\n",
      " [4 5 6]]\n"
     ]
    }
   ],
   "source": [
    "import numpy as np\n",
    "arr = np.array([[1,2,3],[4,5,6]])\n",
    "print(arr)"
   ]
  },
  {
   "cell_type": "markdown",
   "id": "525bf370-e234-4163-a6e3-2b31c4101e68",
   "metadata": {},
   "source": [
    "### using np.array\n"
   ]
  },
  {
   "cell_type": "code",
   "execution_count": 4,
   "id": "b3718b33-2d58-42cb-b351-0d701a49a79a",
   "metadata": {},
   "outputs": [
    {
     "name": "stdout",
     "output_type": "stream",
     "text": [
      "[1 2 3 4]\n"
     ]
    }
   ],
   "source": [
    "import numpy as np\n",
    "\n",
    "arr = np.array([1,2,3,4])\n",
    "print(arr)"
   ]
  },
  {
   "cell_type": "markdown",
   "id": "ef4e483a-ea94-4624-a01f-748e5f1970ed",
   "metadata": {},
   "source": [
    " ### using np.zeros"
   ]
  },
  {
   "cell_type": "code",
   "execution_count": 7,
   "id": "9b458da0-261d-4667-bc8b-d60faba318d8",
   "metadata": {},
   "outputs": [
    {
     "name": "stdout",
     "output_type": "stream",
     "text": [
      "[0. 0. 0. 0. 0. 0. 0.]\n"
     ]
    }
   ],
   "source": [
    "import numpy as np\n",
    "\n",
    "arr = np.zeros([7])\n",
    "print(arr)"
   ]
  },
  {
   "cell_type": "markdown",
   "id": "7212a0c4-66fd-4b6a-91cb-abbf966de5ec",
   "metadata": {},
   "source": [
    "### using np.ones"
   ]
  },
  {
   "cell_type": "code",
   "execution_count": 8,
   "id": "e98ea41d-2e28-4bab-b4e4-ae0dfb54a997",
   "metadata": {},
   "outputs": [
    {
     "name": "stdout",
     "output_type": "stream",
     "text": [
      "[1. 1. 1. 1.]\n"
     ]
    }
   ],
   "source": [
    "import numpy as np\n",
    "\n",
    "arr = np.ones([4])\n",
    "print(arr)"
   ]
  },
  {
   "cell_type": "markdown",
   "id": "5dfe8d4c-6d07-4312-83df-d02955fd7040",
   "metadata": {},
   "source": [
    "### using np.arange"
   ]
  },
  {
   "cell_type": "code",
   "execution_count": 13,
   "id": "48fcca85-52a7-4a14-9fe3-e5cdbe008d0c",
   "metadata": {},
   "outputs": [
    {
     "name": "stdout",
     "output_type": "stream",
     "text": [
      "[1]\n"
     ]
    }
   ],
   "source": [
    "import numpy as np\n",
    "\n",
    "arr = np.arange(1,2,3)\n",
    "print(arr)"
   ]
  },
  {
   "cell_type": "markdown",
   "id": "0992ba1e-bb21-4f33-bc28-c48bc46606da",
   "metadata": {},
   "source": [
    "### using np.linspace"
   ]
  },
  {
   "cell_type": "code",
   "execution_count": 14,
   "id": "1ad10dc1-a565-4995-bf55-ed1a122d9394",
   "metadata": {},
   "outputs": [
    {
     "name": "stdout",
     "output_type": "stream",
     "text": [
      "[11. 12. 13. 14. 15. 16. 17. 18. 19. 20.]\n"
     ]
    }
   ],
   "source": [
    "import numpy as np\n",
    "\n",
    "arr = np.linspace(11,20, num=10)\n",
    "print(arr)"
   ]
  },
  {
   "cell_type": "markdown",
   "id": "98c7bb62-9012-434b-b9e9-442004af803a",
   "metadata": {},
   "source": [
    "## indexing "
   ]
  },
  {
   "cell_type": "code",
   "execution_count": 17,
   "id": "3a7e7fa6-5e4e-4ea1-a32a-4e2378c88e6a",
   "metadata": {},
   "outputs": [
    {
     "name": "stdout",
     "output_type": "stream",
     "text": [
      "4\n"
     ]
    }
   ],
   "source": [
    "import numpy as np\n",
    "\n",
    "arr = np.array([1,2,3,4,5,6,7,])\n",
    "print(arr[3])"
   ]
  },
  {
   "cell_type": "markdown",
   "id": "86d7b447-7419-43d5-85f5-c5c1bb55c261",
   "metadata": {},
   "source": [
    "## slicing "
   ]
  },
  {
   "cell_type": "code",
   "execution_count": 16,
   "id": "a1b95a81-7674-4d33-9c80-fc3d93cbba41",
   "metadata": {},
   "outputs": [
    {
     "name": "stdout",
     "output_type": "stream",
     "text": [
      "[4 5 6]\n"
     ]
    }
   ],
   "source": [
    "import numpy as np\n",
    "\n",
    "arr = np.array([1,2,3,4,5,6,7,8,9,0])\n",
    "print(arr[3:6])"
   ]
  },
  {
   "cell_type": "markdown",
   "id": "b7f6c5b0-2bd2-46c0-87f8-e266142ab6d5",
   "metadata": {},
   "source": [
    "\n",
    "\n",
    "# 3. Array Operations"
   ]
  },
  {
   "cell_type": "markdown",
   "id": "c3154624-5c89-45ae-97eb-08df890b566d",
   "metadata": {},
   "source": [
    "* Arithmetic operations on NumPy arrays (addition, subtraction, multiplication, division).\n",
    "* Broadcasting (performing operations on arrays of different shapes).\n",
    "* Element-wise operations and functions (e.g., np.sqrt(), np.sin(), np.exp())."
   ]
  },
  {
   "cell_type": "code",
   "execution_count": 18,
   "id": "619ec29a-122b-4e3b-8da2-ba30243cbcec",
   "metadata": {},
   "outputs": [
    {
     "name": "stdout",
     "output_type": "stream",
     "text": [
      "[10 10 10]\n"
     ]
    }
   ],
   "source": [
    "import numpy as np\n",
    "\n",
    "x = np.array([9,8,7])\n",
    "y = np.array([1,2,3])\n",
    "arr= x+y\n",
    "print(arr)"
   ]
  },
  {
   "cell_type": "code",
   "execution_count": 19,
   "id": "fd786e07-65fd-49c8-9f39-f04c2c3bf42b",
   "metadata": {},
   "outputs": [
    {
     "name": "stdout",
     "output_type": "stream",
     "text": [
      "[-8 -6 -4]\n"
     ]
    }
   ],
   "source": [
    "import numpy as np\n",
    "\n",
    "x = np.array([9,8,7])\n",
    "y = np.array([1,2,3])\n",
    "\n",
    "print(y-x)"
   ]
  },
  {
   "cell_type": "code",
   "execution_count": 20,
   "id": "4b6a1bba-8c46-49ff-88c3-fa88c5d730f7",
   "metadata": {},
   "outputs": [
    {
     "name": "stdout",
     "output_type": "stream",
     "text": [
      "[ 9 16 21]\n"
     ]
    }
   ],
   "source": [
    "import numpy as np\n",
    "\n",
    "x = np.array([9,8,7])\n",
    "y = np.array([1,2,3])\n",
    "arr= x*y\n",
    "print(arr)"
   ]
  },
  {
   "cell_type": "code",
   "execution_count": 31,
   "id": "d696324a-ee7d-4ff5-a14f-4fbd7aa21616",
   "metadata": {},
   "outputs": [
    {
     "name": "stdout",
     "output_type": "stream",
     "text": [
      "[9.         4.         2.33333333]\n"
     ]
    }
   ],
   "source": [
    "import numpy as np\n",
    "\n",
    "x = np.array([9,8,7])\n",
    "y = np.array([1,2,3])\n",
    "arr= x/y\n",
    "print(arr)"
   ]
  },
  {
   "cell_type": "markdown",
   "id": "a0ca513b-1d53-4f22-95e7-8441a29a6f7c",
   "metadata": {},
   "source": [
    "# 4. Array Shapes and Reshaping"
   ]
  },
  {
   "cell_type": "markdown",
   "id": "4cfb5a05-3ed3-4a7d-a359-50195fd83b70",
   "metadata": {},
   "source": [
    "### shapes "
   ]
  },
  {
   "cell_type": "code",
   "execution_count": 30,
   "id": "d937e129-5379-4e3d-b478-4099c9ad89e6",
   "metadata": {},
   "outputs": [
    {
     "name": "stdout",
     "output_type": "stream",
     "text": [
      "(2, 3)\n"
     ]
    }
   ],
   "source": [
    "import numpy as np\n",
    "\n",
    "arr = np.array([[1,2,3],[4,5,6]])\n",
    "print(arr.shape)"
   ]
  },
  {
   "cell_type": "markdown",
   "id": "f1a5623c-2140-47a0-b170-ce16f1f81745",
   "metadata": {},
   "source": [
    "### Reshaping"
   ]
  },
  {
   "cell_type": "code",
   "execution_count": 38,
   "id": "c9037917-54d3-427f-a479-dbd4c2d65e5d",
   "metadata": {},
   "outputs": [
    {
     "name": "stdout",
     "output_type": "stream",
     "text": [
      "[[ 1  2  3  4  5]\n",
      " [ 6  7  8  9 10]]\n"
     ]
    }
   ],
   "source": [
    "import numpy as np\n",
    "\n",
    "arr = np.array([1,2,3,4,5,6,7,8,9,10,])\n",
    "aarry = arr.reshape(2,5)\n",
    "print(aarry)"
   ]
  },
  {
   "cell_type": "code",
   "execution_count": 39,
   "id": "4852e327-7b4e-4496-a722-37ca11411049",
   "metadata": {},
   "outputs": [
    {
     "name": "stdout",
     "output_type": "stream",
     "text": [
      "[1 2 3 4 5 6]\n"
     ]
    }
   ],
   "source": [
    "import numpy as np\n",
    "\n",
    "arr = np.array([[1,2,3],[4,5,6]])\n",
    "aaray = arr. flatten()\n",
    "print(aaray)"
   ]
  },
  {
   "cell_type": "markdown",
   "id": "54e82d50-6c98-4953-b6d9-063122449ab4",
   "metadata": {},
   "source": [
    "### Concatenating and splitting arrays using np.concatenate(), np.vstack(), np.hstack(), np.split().\n"
   ]
  },
  {
   "cell_type": "code",
   "execution_count": 47,
   "id": "272a857a-29af-44e0-b409-72d6f83d8604",
   "metadata": {},
   "outputs": [
    {
     "name": "stdout",
     "output_type": "stream",
     "text": [
      "[1 2 3 4 5 6 7 8]\n"
     ]
    }
   ],
   "source": [
    "import numpy as np\n",
    "\n",
    "arr1 = np.array([1,2,3,4])\n",
    "arr2 = np.array([5,6,7,8])\n",
    "\n",
    "arr= np.concatenate((arr1,arr2)) #using concatenate\n",
    "print(arr)\n",
    "                      "
   ]
  },
  {
   "cell_type": "code",
   "execution_count": 48,
   "id": "6fc8609c-4740-4fca-91df-e7533e297b60",
   "metadata": {},
   "outputs": [
    {
     "name": "stdout",
     "output_type": "stream",
     "text": [
      "[[1 2 5 6]\n",
      " [3 4 7 8]]\n"
     ]
    }
   ],
   "source": [
    "import numpy as np\n",
    "\n",
    "arr1 = np.array([[1, 2], [3, 4]])\n",
    "\n",
    "arr2 = np.array([[5, 6], [7, 8]])\n",
    "\n",
    "arr = np.concatenate((arr1, arr2), axis=1)\n",
    "\n",
    "print(arr)\n"
   ]
  },
  {
   "cell_type": "code",
   "execution_count": 50,
   "id": "1fba37ba-4b86-473d-9c5d-3e0685b148b7",
   "metadata": {},
   "outputs": [
    {
     "name": "stdout",
     "output_type": "stream",
     "text": [
      "[[1 2 3 4]\n",
      " [5 6 7 8]]\n"
     ]
    }
   ],
   "source": [
    "import numpy as np\n",
    "\n",
    "arr1 = np.array([1,2,3,4])\n",
    "arr2 = np.array([5,6,7,8])\n",
    "\n",
    "arr=np.vstack((arr1,arr2)) # using vstack\n",
    "\n",
    "print(arr)"
   ]
  },
  {
   "cell_type": "code",
   "execution_count": 52,
   "id": "a5c0f9fe-8999-4725-9c9a-8fc76683427c",
   "metadata": {},
   "outputs": [
    {
     "name": "stdout",
     "output_type": "stream",
     "text": [
      "[1 2 3 4 5 6 7 8]\n"
     ]
    }
   ],
   "source": [
    "import numpy as np\n",
    "\n",
    "arr1 = np.array([1,2,3,4])\n",
    "arr2 = np.array([5,6,7,8])\n",
    "\n",
    "arr = np.hstack((arr1,arr2)) # using hstack\n",
    "\n",
    "print(arr)"
   ]
  },
  {
   "cell_type": "code",
   "execution_count": 53,
   "id": "3dc9cf26-0775-4995-b076-c222503748ee",
   "metadata": {},
   "outputs": [
    {
     "name": "stdout",
     "output_type": "stream",
     "text": [
      "[array([1, 2, 3]), array([4, 5, 6]), array([7, 8]), array([ 9, 10])]\n"
     ]
    }
   ],
   "source": [
    "import numpy as np\n",
    "\n",
    "arr = np.array([1,2,3,4,5,6,7,8,9,10,])\n",
    "new = np.array_split(arr,4)\n",
    "\n",
    "print(new)"
   ]
  },
  {
   "cell_type": "markdown",
   "id": "a5edb9fb-bc13-49ae-a1c1-3c552e19026a",
   "metadata": {},
   "source": [
    "# 5. Array Manipulation"
   ]
  },
  {
   "cell_type": "markdown",
   "id": "d97bdf2d-efd2-4c94-8369-c13d09e799bf",
   "metadata": {},
   "source": [
    "* Indexing and slicing: understanding multi-dimensional arrays.\n",
    "* Masking (logical indexing based on conditions).\n",
    "* Fancy indexing (using arrays of indices to select elements).\n"
   ]
  },
  {
   "cell_type": "code",
   "execution_count": 57,
   "id": "8ef86a81-0640-4736-be2e-56086e0b62f2",
   "metadata": {},
   "outputs": [
    {
     "name": "stdout",
     "output_type": "stream",
     "text": [
      "new index of element 3: 0\n"
     ]
    }
   ],
   "source": [
    "\n",
    "arr = np.array ([[1,2,3],[4,5,6],[7,8,9]])\n",
    "\n",
    "new_index = np.where(arr ==3)[0][0]\n",
    "print(\"new index of element 3:\",new_index)"
   ]
  },
  {
   "cell_type": "code",
   "execution_count": 62,
   "id": "1cfadf9c-9c85-4d6d-9347-09156cb4c93a",
   "metadata": {},
   "outputs": [
    {
     "name": "stdout",
     "output_type": "stream",
     "text": [
      "row are greter than 60: 0\n"
     ]
    }
   ],
   "source": [
    "import numpy as np\n",
    "\n",
    "arr = np.array([[10,20,30],[40,50,60],[70,80,90]])\n",
    "\n",
    "new_indices = np.where(arr > 60 )[0]\n",
    "\n",
    "print(\"row are greter than 60:\",new_index)"
   ]
  },
  {
   "cell_type": "markdown",
   "id": "020036f7-5966-4ffd-9bf6-b3cb331969d3",
   "metadata": {},
   "source": [
    "# 6. Mathematical Functions"
   ]
  },
  {
   "cell_type": "markdown",
   "id": "35ede2f0-b74c-4fd9-a61d-8073965ee369",
   "metadata": {},
   "source": [
    "* Universal functions (ufuncs) like np.add(), np.subtract(), np.multiply().\n",
    "* Statistical functions: np.mean(), np.median(), np.std(), np.var(), np.min(), np.max().\n",
    "* Linear algebra functions: np.dot(), np.matmul(), np.linalg.inv(), np.linalg.eig()."
   ]
  },
  {
   "cell_type": "code",
   "execution_count": 9,
   "id": "42a634dc-2061-4863-8929-3dc5fe755976",
   "metadata": {},
   "outputs": [
    {
     "name": "stdout",
     "output_type": "stream",
     "text": [
      "[5 7 9]\n"
     ]
    }
   ],
   "source": [
    "import numpy as np\n",
    "\n",
    "array1 = np.array([1, 2, 3])\n",
    "array2 = np.array([4, 5, 6])\n",
    "result = np.add(array1, array2)\n",
    "print(result)"
   ]
  },
  {
   "cell_type": "code",
   "execution_count": 11,
   "id": "2b1b46df-f534-4439-864f-eb72cc8e7b63",
   "metadata": {},
   "outputs": [
    {
     "name": "stdout",
     "output_type": "stream",
     "text": [
      "[ 3  4 11]\n"
     ]
    }
   ],
   "source": [
    "import numpy as np\n",
    "\n",
    "array1 = np.array([7, 9, 17])\n",
    "array2 = np.array([4, 5, 6])\n",
    "result = np.subtract(array1, array2)\n",
    "print(result)"
   ]
  },
  {
   "cell_type": "code",
   "execution_count": 14,
   "id": "123a980b-6f27-4220-8edd-5d8197071cec",
   "metadata": {},
   "outputs": [
    {
     "name": "stdout",
     "output_type": "stream",
     "text": [
      "[ 48 390 558]\n"
     ]
    }
   ],
   "source": [
    "import numpy as np\n",
    "\n",
    "array1 = np.array([12, 78, 93])\n",
    "array2 = np.array([4, 5, 6])\n",
    "result = np.multiply(array1, array2)\n",
    "print(result)"
   ]
  },
  {
   "cell_type": "markdown",
   "id": "8a38da5f-0b3a-4097-ac82-742a17878adc",
   "metadata": {},
   "source": [
    "###  Statistical functions: np.mean(), np.median(), np.std(), np.var(), np.min(), np.max()."
   ]
  },
  {
   "cell_type": "code",
   "execution_count": 1,
   "id": "a79c419a-515e-4a9d-9938-f952f7462319",
   "metadata": {},
   "outputs": [
    {
     "name": "stdout",
     "output_type": "stream",
     "text": [
      "12.0\n"
     ]
    }
   ],
   "source": [
    "import numpy as np\n",
    "ap11= np.array([11,12,13])\n",
    "xyz = np.mean(ap11)\n",
    "print(xyz)"
   ]
  },
  {
   "cell_type": "code",
   "execution_count": 2,
   "id": "336fe243-7324-432b-b2e4-76c7fdbb76c4",
   "metadata": {},
   "outputs": [
    {
     "name": "stdout",
     "output_type": "stream",
     "text": [
      "13.0\n"
     ]
    }
   ],
   "source": [
    "import numpy as np\n",
    "ap11= np.array([11,12,13,14,15])\n",
    "xyz = np.median(ap11)\n",
    "print(xyz)"
   ]
  },
  {
   "cell_type": "code",
   "execution_count": 3,
   "id": "369d81d0-538c-4556-b0cf-8758448edfab",
   "metadata": {},
   "outputs": [
    {
     "name": "stdout",
     "output_type": "stream",
     "text": [
      "1.4142135623730951\n"
     ]
    }
   ],
   "source": [
    "import numpy as np\n",
    "ap11= np.array([11,12,13,14,15])\n",
    "xyz = np.std(ap11)\n",
    "print(xyz)"
   ]
  },
  {
   "cell_type": "code",
   "execution_count": 4,
   "id": "080d7374-054f-471c-a70f-8de6c975646d",
   "metadata": {},
   "outputs": [
    {
     "name": "stdout",
     "output_type": "stream",
     "text": [
      "2.0\n"
     ]
    }
   ],
   "source": [
    "import numpy as np\n",
    "ap11= np.array([11,12,13,14,15])\n",
    "xyz = np.var(ap11)\n",
    "print(xyz)"
   ]
  },
  {
   "cell_type": "code",
   "execution_count": 5,
   "id": "d287cc8f-af1f-4c23-8ebd-f77631a55149",
   "metadata": {},
   "outputs": [
    {
     "name": "stdout",
     "output_type": "stream",
     "text": [
      "15\n"
     ]
    }
   ],
   "source": [
    "import numpy as np\n",
    "ap11= np.array([11,12,13,14,15])\n",
    "xyz = np.max(ap11)\n",
    "print(xyz)"
   ]
  },
  {
   "cell_type": "markdown",
   "id": "c1079af1-68a9-4472-bf0e-9afe2b74076a",
   "metadata": {},
   "source": [
    "### Linear algebra functions: np.dot(), np.matmul(), np.linalg.inv(), np.linalg.eig().\n"
   ]
  },
  {
   "cell_type": "code",
   "execution_count": 14,
   "id": "c785afe3-9493-4180-9f4b-f6c4fad54082",
   "metadata": {},
   "outputs": [
    {
     "name": "stdout",
     "output_type": "stream",
     "text": [
      "Dot Product of scalar values :  25\n",
      "Dot Product :  (4+33j)\n"
     ]
    }
   ],
   "source": [
    "\n",
    "import numpy as geek\n",
    "\n",
    "prod = geek.dot(5, 5)\n",
    "print(\"Dot Product of scalar values : \", prod)\n",
    "\n",
    "vector_x = 3 + 2j\n",
    "vector_y = 6 + 7j\n",
    "\n",
    "prod = geek.dot(vector_x, vector_y)\n",
    "print(\"Dot Product : \", prod)\n"
   ]
  },
  {
   "cell_type": "code",
   "execution_count": 18,
   "id": "f889be60-aec6-4111-9db8-badf0002ba6d",
   "metadata": {},
   "outputs": [
    {
     "name": "stdout",
     "output_type": "stream",
     "text": [
      "[[8 2]\n",
      " [6 5]]\n"
     ]
    }
   ],
   "source": [
    "import numpy.matlib \n",
    "import numpy as np \n",
    "\n",
    "x = [[2,0],[0,1]] \n",
    "y = [[4,1],[6,5]] \n",
    "print (np.matmul(x,y))\n"
   ]
  },
  {
   "cell_type": "code",
   "execution_count": 25,
   "id": "4390f30e-f6aa-48bf-94c1-cdd9a895fcba",
   "metadata": {},
   "outputs": [
    {
     "name": "stdout",
     "output_type": "stream",
     "text": [
      "Rank of A: 3\n",
      "\n",
      "Trace of A: 57\n",
      "\n",
      "Determinant of A: -8082.999999999989\n",
      "\n",
      "Inverse of A:\n",
      " [[ 0.02523815 -0.0112582  -0.05158976]\n",
      " [ 0.03179513 -0.04849685  0.00853643]\n",
      " [-0.04354819  0.05864159  0.14784115]]\n",
      "\n",
      "Matrix A raised to power 3:\n",
      " [[301560  52003 113145]\n",
      " [159847  20588  59907]\n",
      " [ 28576   7030  10993]]\n"
     ]
    }
   ],
   "source": [
    "\n",
    "import numpy as np\n",
    " \n",
    "Ap = np.array([[62,11, 21],\n",
    "              [41, -12, 15],\n",
    "              [2, 8, 7]])\n",
    " \n",
    "\n",
    "print(\"Rank of A:\", np.linalg.matrix_rank(Ap))\n",
    " \n",
    "print(\"\\nTrace of A:\", np.trace(Ap))\n",
    " \n",
    "print(\"\\nDeterminant of A:\", np.linalg.det(Ap)) # np.linalg.det\n",
    " \n",
    "print(\"\\nInverse of A:\\n\", np.linalg.inv(Ap)) # np.linalg.inv\n",
    " \n",
    "print(\"\\nMatrix A raised to power 3:\\n\",\n",
    "           np.linalg.matrix_power(Ap, 3))"
   ]
  },
  {
   "cell_type": "code",
   "execution_count": null,
   "id": "f95f645e-4464-48d3-bfd5-63f58583f2eb",
   "metadata": {},
   "outputs": [],
   "source": []
  }
 ],
 "metadata": {
  "kernelspec": {
   "display_name": "Python 3 (ipykernel)",
   "language": "python",
   "name": "python3"
  },
  "language_info": {
   "codemirror_mode": {
    "name": "ipython",
    "version": 3
   },
   "file_extension": ".py",
   "mimetype": "text/x-python",
   "name": "python",
   "nbconvert_exporter": "python",
   "pygments_lexer": "ipython3",
   "version": "3.13.1"
  }
 },
 "nbformat": 4,
 "nbformat_minor": 5
}
