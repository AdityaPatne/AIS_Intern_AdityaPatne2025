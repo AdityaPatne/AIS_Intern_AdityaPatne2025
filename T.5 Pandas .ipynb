{
 "cells": [
  {
   "cell_type": "markdown",
   "id": "a871bac6-3706-444e-a219-7348a190d272",
   "metadata": {},
   "source": [
    "# PANDAS"
   ]
  },
  {
   "cell_type": "markdown",
   "id": "0acf73a4-b6dd-4f2c-ae56-aa563ac25af5",
   "metadata": {},
   "source": [
    " ### Pandas is a Python library.\n",
    " ### Pandas is used to analyze data."
   ]
  },
  {
   "cell_type": "markdown",
   "id": "e28df2bf-dfa8-4287-a996-24399d15923b",
   "metadata": {},
   "source": [
    "### What is Pandas?\n",
    " * Pandas is a Python library used for working with data sets.\n",
    "It has functions for analyzing, cleaning, exploring, and manipulating data.\n",
    "The name \"Pandas\" has a reference to both \"Panel Data\", and \"Python Data Analysis\" and was created by Wes McKinney in 2008.\n",
    "\n"
   ]
  },
  {
   "cell_type": "markdown",
   "id": "194074b0-acec-4aa4-9e8c-642b1d7f5ba4",
   "metadata": {},
   "source": [
    "### Why Use Pandas?\n",
    " * Pandas allows us to analyze big data and make conclusions based on statistical theories.\n",
    "Pandas can clean messy data sets, and make them readable and relevant.\n",
    "Relevant data is very important in data science."
   ]
  },
  {
   "cell_type": "markdown",
   "id": "fb2e882a-9e47-4604-ae8f-a2b2b05cf95a",
   "metadata": {},
   "source": [
    "### KEY VALUES"
   ]
  },
  {
   "cell_type": "code",
   "execution_count": 3,
   "id": "51717550-ca4a-4136-b8e5-453b0c8dc0d8",
   "metadata": {},
   "outputs": [
    {
     "name": "stdout",
     "output_type": "stream",
     "text": [
      "day1    943\n",
      "day2    490\n",
      "day3    890\n",
      "dtype: int64\n"
     ]
    }
   ],
   "source": [
    "import pandas as pd\n",
    "ap = {\"day1\": 943, \"day2\": 490, \"day3\": 890}\n",
    "ap11 = pd.Series(ap)\n",
    "print(ap11)"
   ]
  },
  {
   "cell_type": "code",
   "execution_count": 7,
   "id": "fd78b8aa-d723-4cbd-a327-5e0fe102772d",
   "metadata": {},
   "outputs": [
    {
     "name": "stdout",
     "output_type": "stream",
     "text": [
      "0       a\n",
      "1       b\n",
      "2       c\n",
      "3       d\n",
      "4       e\n",
      "5       x\n",
      "6       y\n",
      "7    sham\n",
      "dtype: object\n"
     ]
    }
   ],
   "source": [
    "import pandas as pd \n",
    "import numpy as np \n",
    "\n",
    "tpp = np.array(['a', 'b', 'c', 'd', 'e','x','y','sham']) \n",
    "\n",
    "# creating series \n",
    "xyz = pd.Series(tpp) \n",
    "print(xyz)"
   ]
  },
  {
   "cell_type": "code",
   "execution_count": 8,
   "id": "62086c72-bb25-4335-9fb2-4e193abadab9",
   "metadata": {},
   "outputs": [
    {
     "name": "stdout",
     "output_type": "stream",
     "text": [
      "   Number    Name\n",
      "0      12    gana\n",
      "1      24  sandip\n",
      "2      23  pushpa\n"
     ]
    }
   ],
   "source": [
    "import pandas as pd\n",
    "data = {\n",
    "    \"Number\":[12,24,23] ,\n",
    "    \"Name\":['gana', 'sandip', 'pushpa']\n",
    "}\n",
    "ap = pd.DataFrame(data)\n",
    "print(ap)"
   ]
  },
  {
   "cell_type": "code",
   "execution_count": 9,
   "id": "7f254c8d-0b21-4bd6-9a07-a7da24980447",
   "metadata": {},
   "outputs": [
    {
     "name": "stdout",
     "output_type": "stream",
     "text": [
      "   Number    Name\n",
      "1      24  sandip\n"
     ]
    }
   ],
   "source": [
    "import pandas as pd\n",
    "data = {\n",
    "    \"Number\":[12,24,23] ,\n",
    "    \"Name\":['gana', 'sandip', 'pushpa']\n",
    "}\n",
    "ap = pd.DataFrame(data)\n",
    "print(ap.iloc[1:2])"
   ]
  },
  {
   "cell_type": "markdown",
   "id": "97a974c9-6c4c-4628-bf17-388bb126f23b",
   "metadata": {},
   "source": [
    "###  Data Cleaning: .isnull(), .dropna(), .fillna()"
   ]
  },
  {
   "cell_type": "code",
   "execution_count": 11,
   "id": "7c5489b8-91e1-4dc1-b58b-6f98bad9505f",
   "metadata": {},
   "outputs": [
    {
     "name": "stdout",
     "output_type": "stream",
     "text": [
      "     1st    2ed    3rd\n",
      "0  False  False  False\n",
      "1  False   True   True\n",
      "2  False  False  False\n",
      "3   True  False  False\n"
     ]
    }
   ],
   "source": [
    "import pandas as pd\n",
    "import numpy as np\n",
    "\n",
    "info = {\n",
    "    \"1st\":[100,66,12,np.nan],\n",
    "    \"2ed\":[89,np.nan,87,96],\n",
    "    \"3rd\":[12,np.nan,29,87]\n",
    "}\n",
    "xy = pd.DataFrame(info)\n",
    "missing_value=xy.isnull()\n",
    "print(missing_value)"
   ]
  },
  {
   "cell_type": "markdown",
   "id": "c4245e44-a1dd-4bec-8334-3d49be1e7534",
   "metadata": {},
   "source": [
    "### .dropna()"
   ]
  },
  {
   "cell_type": "code",
   "execution_count": 12,
   "id": "6770ef70-4c28-4ed1-9d62-74d6383b49a4",
   "metadata": {},
   "outputs": [
    {
     "data": {
      "text/html": [
       "<div>\n",
       "<style scoped>\n",
       "    .dataframe tbody tr th:only-of-type {\n",
       "        vertical-align: middle;\n",
       "    }\n",
       "\n",
       "    .dataframe tbody tr th {\n",
       "        vertical-align: top;\n",
       "    }\n",
       "\n",
       "    .dataframe thead th {\n",
       "        text-align: right;\n",
       "    }\n",
       "</style>\n",
       "<table border=\"1\" class=\"dataframe\">\n",
       "  <thead>\n",
       "    <tr style=\"text-align: right;\">\n",
       "      <th></th>\n",
       "      <th>1st</th>\n",
       "      <th>2ed</th>\n",
       "      <th>3rd</th>\n",
       "    </tr>\n",
       "  </thead>\n",
       "  <tbody>\n",
       "    <tr>\n",
       "      <th>0</th>\n",
       "      <td>100.0</td>\n",
       "      <td>89.0</td>\n",
       "      <td>12.0</td>\n",
       "    </tr>\n",
       "    <tr>\n",
       "      <th>2</th>\n",
       "      <td>12.0</td>\n",
       "      <td>87.0</td>\n",
       "      <td>29.0</td>\n",
       "    </tr>\n",
       "  </tbody>\n",
       "</table>\n",
       "</div>"
      ],
      "text/plain": [
       "     1st   2ed   3rd\n",
       "0  100.0  89.0  12.0\n",
       "2   12.0  87.0  29.0"
      ]
     },
     "execution_count": 12,
     "metadata": {},
     "output_type": "execute_result"
    }
   ],
   "source": [
    "import pandas as pd\n",
    "import numpy as np\n",
    "\n",
    "info = {\n",
    "    \"1st\":[100,66,12,np.nan],\n",
    "    \"2ed\":[89,np.nan,87,96],\n",
    "    \"3rd\":[12,np.nan,29,87]\n",
    "}\n",
    "xy = pd.DataFrame(info)\n",
    "xy.dropna()"
   ]
  },
  {
   "cell_type": "markdown",
   "id": "0ee42912-b321-449b-8634-71834b89606c",
   "metadata": {},
   "source": [
    "### .filna()"
   ]
  },
  {
   "cell_type": "code",
   "execution_count": 14,
   "id": "b7e70428-6c0d-4500-a7d0-368663922dba",
   "metadata": {},
   "outputs": [
    {
     "data": {
      "text/html": [
       "<div>\n",
       "<style scoped>\n",
       "    .dataframe tbody tr th:only-of-type {\n",
       "        vertical-align: middle;\n",
       "    }\n",
       "\n",
       "    .dataframe tbody tr th {\n",
       "        vertical-align: top;\n",
       "    }\n",
       "\n",
       "    .dataframe thead th {\n",
       "        text-align: right;\n",
       "    }\n",
       "</style>\n",
       "<table border=\"1\" class=\"dataframe\">\n",
       "  <thead>\n",
       "    <tr style=\"text-align: right;\">\n",
       "      <th></th>\n",
       "      <th>1st</th>\n",
       "      <th>2ed</th>\n",
       "      <th>3rd</th>\n",
       "    </tr>\n",
       "  </thead>\n",
       "  <tbody>\n",
       "    <tr>\n",
       "      <th>0</th>\n",
       "      <td>100.0</td>\n",
       "      <td>89.0</td>\n",
       "      <td>12.0</td>\n",
       "    </tr>\n",
       "    <tr>\n",
       "      <th>1</th>\n",
       "      <td>66.0</td>\n",
       "      <td>1.0</td>\n",
       "      <td>1.0</td>\n",
       "    </tr>\n",
       "    <tr>\n",
       "      <th>2</th>\n",
       "      <td>12.0</td>\n",
       "      <td>87.0</td>\n",
       "      <td>29.0</td>\n",
       "    </tr>\n",
       "    <tr>\n",
       "      <th>3</th>\n",
       "      <td>1.0</td>\n",
       "      <td>96.0</td>\n",
       "      <td>87.0</td>\n",
       "    </tr>\n",
       "  </tbody>\n",
       "</table>\n",
       "</div>"
      ],
      "text/plain": [
       "     1st   2ed   3rd\n",
       "0  100.0  89.0  12.0\n",
       "1   66.0   1.0   1.0\n",
       "2   12.0  87.0  29.0\n",
       "3    1.0  96.0  87.0"
      ]
     },
     "execution_count": 14,
     "metadata": {},
     "output_type": "execute_result"
    }
   ],
   "source": [
    "import pandas as pd\n",
    "import numpy as np\n",
    "\n",
    "info = {\n",
    "    \"1st\":[100,66,12,np.nan],\n",
    "    \"2ed\":[89,np.nan,87,96],\n",
    "    \"3rd\":[12,np.nan,29,87]\n",
    "}\n",
    "xy = pd.DataFrame(info)\n",
    "xy.fillna(1)"
   ]
  },
  {
   "cell_type": "markdown",
   "id": "f98b81d6-926b-4782-a670-b1d0a16ccca1",
   "metadata": {},
   "source": [
    "###  Renaming: df.rename()"
   ]
  },
  {
   "cell_type": "code",
   "execution_count": 16,
   "id": "0bf2011e-21e2-4b6e-8586-22b22c7de572",
   "metadata": {},
   "outputs": [
    {
     "name": "stdout",
     "output_type": "stream",
     "text": [
      "   X  Y  Z\n",
      "0  1  4  7\n",
      "1  2  5  8\n",
      "2  3  6  9\n",
      "   x  y  z\n",
      "0  1  4  7\n",
      "1  2  5  8\n",
      "2  3  6  9\n"
     ]
    }
   ],
   "source": [
    "import pandas as pd\n",
    "\n",
    "ap = pd.DataFrame({'X': [1, 2, 3], 'Y': [4, 5, 6], 'Z': [7, 8, 9]})# Sample DataFrame\n",
    "print(ap)\n",
    "\n",
    "ap.rename(columns={'X': 'x', 'Y': 'y', 'Z': 'z'}, inplace=True)# Renaming columns\n",
    "print(ap)"
   ]
  },
  {
   "cell_type": "markdown",
   "id": "1f30f822-8e5c-4130-aca8-bc69c6cce1bb",
   "metadata": {},
   "source": [
    "### .isnull()"
   ]
  },
  {
   "cell_type": "code",
   "execution_count": 20,
   "id": "c240725f-1624-4f22-9335-3ea4537fefb2",
   "metadata": {},
   "outputs": [
    {
     "name": "stdout",
     "output_type": "stream",
     "text": [
      "   1st  2ed  3rd\n",
      "0  100   89   12\n",
      "1   66   33   78\n",
      "2   12   87   29\n",
      "3   18   96   87\n"
     ]
    },
    {
     "data": {
      "text/plain": [
       "1st    0\n",
       "2ed    0\n",
       "3rd    0\n",
       "dtype: int64"
      ]
     },
     "execution_count": 20,
     "metadata": {},
     "output_type": "execute_result"
    }
   ],
   "source": [
    "import pandas as pd\n",
    "\n",
    "ap = pd.DataFrame({\n",
    "    \"1st\":[100,66,12,18],\n",
    "    \"2ed\":[89,33,87,96],\n",
    "    \"3rd\":[12,78,29,87]\n",
    "})\n",
    "                  \n",
    "ap_filter=ap[ap['2ed']>24]\n",
    "print(ap_filter)\n",
    "ap.isnull().sum()"
   ]
  },
  {
   "cell_type": "markdown",
   "id": "ed1a9fe7-bdf1-4605-8501-87e80c1bf36c",
   "metadata": {},
   "source": [
    "* Aggregation and Grouping:\n",
    "* GroupBy: df.groupby('col')\n",
    "* Aggregation: .sum(), .mean(), .count()\n"
   ]
  },
  {
   "cell_type": "code",
   "execution_count": 21,
   "id": "aae7a13e-b2ad-4c8d-9080-c9376a2973a0",
   "metadata": {},
   "outputs": [
    {
     "name": "stdout",
     "output_type": "stream",
     "text": [
      "            Name  Age\n",
      "Country              \n",
      "ap          sham   12\n",
      "india        ram   11\n",
      "k         ganesh   14\n",
      "u        pushapa   13\n"
     ]
    }
   ],
   "source": [
    "import pandas as pd\n",
    "import numpy as np\n",
    "\n",
    "ap = pd.DataFrame({\n",
    "    'Name': ['ram','sham','pushapa','ganesh'],\n",
    "    'Age': [11,12,13,14],\n",
    "    'Country': ['india','ap','u','k']\n",
    "})\n",
    "\n",
    "set = ap.groupby(\"Country\")\n",
    "print(set.first())"
   ]
  },
  {
   "cell_type": "markdown",
   "id": "3a6fe1e1-8dd4-4771-bc01-c9e08907f6cf",
   "metadata": {},
   "source": [
    "### .sum()"
   ]
  },
  {
   "cell_type": "code",
   "execution_count": 22,
   "id": "f001a814-aa5d-4e38-bb9f-340130ca86b0",
   "metadata": {},
   "outputs": [
    {
     "data": {
      "text/plain": [
       "Name       ramshampushapaganesh\n",
       "Age                          50\n",
       "Country               indiaapuk\n",
       "dtype: object"
      ]
     },
     "execution_count": 22,
     "metadata": {},
     "output_type": "execute_result"
    }
   ],
   "source": [
    "import pandas as pd\n",
    "\n",
    "ap = pd.DataFrame({\n",
    "    'Name': ['ram','sham','pushapa','ganesh'],\n",
    "    'Age': [11,12,13,14],\n",
    "    'Country': ['india','ap','u','k']\n",
    "})\n",
    "\n",
    "ap.sum()"
   ]
  },
  {
   "cell_type": "code",
   "execution_count": 26,
   "id": "9a015034-9f9c-4b3d-8237-242aa5c26142",
   "metadata": {},
   "outputs": [
    {
     "name": "stdout",
     "output_type": "stream",
     "text": [
      "Age    5\n",
      "dtype: int64\n"
     ]
    }
   ],
   "source": [
    "import pandas as pd\n",
    "\n",
    "ap = pd.DataFrame({'Age': [28,54,76, 24, 35, 32,56]})\n",
    "ap11=df.count()\n",
    "print(ap11)"
   ]
  },
  {
   "cell_type": "markdown",
   "id": "090d8285-2f53-4e7b-b178-fa131a772c3b",
   "metadata": {},
   "source": [
    "## Merging and Joining: pd.merge(), df.conacat()"
   ]
  },
  {
   "cell_type": "code",
   "execution_count": 28,
   "id": "de04e62a-6b0f-4420-9c8f-0e7715e39d0b",
   "metadata": {},
   "outputs": [
    {
     "name": "stdout",
     "output_type": "stream",
     "text": [
      "    name  age     city\n",
      "0   Sonu   35     Pune\n",
      "1    Ram   44     gova\n",
      "2  Harsh   23  Kolkata\n"
     ]
    }
   ],
   "source": [
    "import pandas as pd\n",
    "\n",
    "info1 = {\n",
    "  \"name\": [\"Sonu\", \"Ram\", \"Harsh\"],\n",
    "  \"age\": [35, 44, 23]\n",
    "}\n",
    "\n",
    "info2 = {\n",
    "  \"name\": [\"Sonu\", \"Ram\", \"Harsh\"],\n",
    "  \"city\": [\"Pune\",\"gova\",\"Kolkata\"]\n",
    "}\n",
    "\n",
    "abc = pd.DataFrame(info1)\n",
    "xyz = pd.DataFrame(info2)\n",
    "ap=pd.merge(abc,xyz, on=\"name\")\n",
    "print(ap)"
   ]
  },
  {
   "cell_type": "code",
   "execution_count": 29,
   "id": "4121095e-4a52-4ec6-a854-22eb7faaf8be",
   "metadata": {},
   "outputs": [
    {
     "data": {
      "text/html": [
       "<div>\n",
       "<style scoped>\n",
       "    .dataframe tbody tr th:only-of-type {\n",
       "        vertical-align: middle;\n",
       "    }\n",
       "\n",
       "    .dataframe tbody tr th {\n",
       "        vertical-align: top;\n",
       "    }\n",
       "\n",
       "    .dataframe thead th {\n",
       "        text-align: right;\n",
       "    }\n",
       "</style>\n",
       "<table border=\"1\" class=\"dataframe\">\n",
       "  <thead>\n",
       "    <tr style=\"text-align: right;\">\n",
       "      <th></th>\n",
       "      <th>name</th>\n",
       "      <th>age</th>\n",
       "      <th>city</th>\n",
       "    </tr>\n",
       "  </thead>\n",
       "  <tbody>\n",
       "    <tr>\n",
       "      <th>0</th>\n",
       "      <td>Sonu</td>\n",
       "      <td>35.0</td>\n",
       "      <td>NaN</td>\n",
       "    </tr>\n",
       "    <tr>\n",
       "      <th>1</th>\n",
       "      <td>Ram</td>\n",
       "      <td>44.0</td>\n",
       "      <td>NaN</td>\n",
       "    </tr>\n",
       "    <tr>\n",
       "      <th>2</th>\n",
       "      <td>Harsh</td>\n",
       "      <td>23.0</td>\n",
       "      <td>NaN</td>\n",
       "    </tr>\n",
       "    <tr>\n",
       "      <th>0</th>\n",
       "      <td>Sonu</td>\n",
       "      <td>NaN</td>\n",
       "      <td>Pune</td>\n",
       "    </tr>\n",
       "    <tr>\n",
       "      <th>1</th>\n",
       "      <td>Ram</td>\n",
       "      <td>NaN</td>\n",
       "      <td>gova</td>\n",
       "    </tr>\n",
       "    <tr>\n",
       "      <th>2</th>\n",
       "      <td>Harsh</td>\n",
       "      <td>NaN</td>\n",
       "      <td>Kolkata</td>\n",
       "    </tr>\n",
       "  </tbody>\n",
       "</table>\n",
       "</div>"
      ],
      "text/plain": [
       "    name   age     city\n",
       "0   Sonu  35.0      NaN\n",
       "1    Ram  44.0      NaN\n",
       "2  Harsh  23.0      NaN\n",
       "0   Sonu   NaN     Pune\n",
       "1    Ram   NaN     gova\n",
       "2  Harsh   NaN  Kolkata"
      ]
     },
     "execution_count": 29,
     "metadata": {},
     "output_type": "execute_result"
    }
   ],
   "source": [
    "import pandas as pd\n",
    "\n",
    "info1 = {\n",
    "  \"name\": [\"Sonu\", \"Ram\", \"Harsh\"],\n",
    "  \"age\": [35, 44, 23]\n",
    "}\n",
    "\n",
    "info2 = {\n",
    "  \"name\": [\"Sonu\", \"Ram\", \"Harsh\"],\n",
    "  \"city\": [\"Pune\",\"gova\",\"Kolkata\"]\n",
    "}\n",
    "\n",
    "abc = pd.DataFrame(info1)\n",
    "xyz = pd.DataFrame(info2)\n",
    "pd.concat([abc, xyz])"
   ]
  }
 ],
 "metadata": {
  "kernelspec": {
   "display_name": "Python 3 (ipykernel)",
   "language": "python",
   "name": "python3"
  },
  "language_info": {
   "codemirror_mode": {
    "name": "ipython",
    "version": 3
   },
   "file_extension": ".py",
   "mimetype": "text/x-python",
   "name": "python",
   "nbconvert_exporter": "python",
   "pygments_lexer": "ipython3",
   "version": "3.13.1"
  }
 },
 "nbformat": 4,
 "nbformat_minor": 5
}
