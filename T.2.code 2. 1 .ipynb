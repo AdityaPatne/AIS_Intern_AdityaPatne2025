{
 "cells": [
  {
   "cell_type": "markdown",
   "id": "a72c24e4-9675-49ce-b7a4-5ffa7bb83690",
   "metadata": {},
   "source": [
    "# IF-ELSE "
   ]
  },
  {
   "cell_type": "markdown",
   "id": "2c2a177c-e4af-4ea5-af45-5f935a5ba9d4",
   "metadata": {},
   "source": [
    "1Q\n",
    "\n",
    "* grade code\n",
    " * p=50\n",
    " * O: p>75\n",
    " * A : 60 < p>75\n",
    " * B: 50<p<60\n",
    " * C: 35<p<50\n",
    " * fail:p<35"
   ]
  },
  {
   "cell_type": "code",
   "execution_count": 4,
   "id": "920fdbf3-2171-42d6-9448-813e645587dd",
   "metadata": {},
   "outputs": [
    {
     "name": "stdin",
     "output_type": "stream",
     "text": [
      "enter your marks: 50\n"
     ]
    },
    {
     "name": "stdout",
     "output_type": "stream",
     "text": [
      "grade is B\n"
     ]
    }
   ],
   "source": [
    "marks= float(input(\"enter your marks:\"))\n",
    "if (marks >= 75):\n",
    "    print(\"grade is O\")\n",
    "elif( 60 <= marks < 75 ):\n",
    "    print(\"grade is A\")\n",
    "elif( 50 <= marks < 60 ):\n",
    "    print(\"grade is B\")\n",
    "elif( 35 <= marks < 50 ):\n",
    "    print(\" grade is C\")\n",
    "else:\n",
    "    print(\"fail\")\n",
    "                \n"
   ]
  },
  {
   "cell_type": "markdown",
   "id": "6db65c8b-4bc0-4391-ae4b-b96c7cf554f0",
   "metadata": {},
   "source": [
    "2 Q\n",
    "\n",
    "*  n divisible by 2 or 3\n",
    "* n=7\n",
    "* 2 divisble, 3 not\n",
    "* divisible by 2,and 3\n",
    "* divisible by 3, not 2\n",
    "* not divisible by 2, and 3"
   ]
  },
  {
   "cell_type": "code",
   "execution_count": 12,
   "id": "83674e2e-3b48-46e5-b4ea-150a9c7525b1",
   "metadata": {},
   "outputs": [
    {
     "name": "stdin",
     "output_type": "stream",
     "text": [
      "enter your no: 7\n"
     ]
    },
    {
     "name": "stdout",
     "output_type": "stream",
     "text": [
      "not div by 2 and not div by 3\n"
     ]
    }
   ],
   "source": [
    "n = int(input(\"enter your no:\"))\n",
    "if (n % 2 == 0 and n % 3 == 1) :\n",
    "     print(\"div by 2 and not div by 3\")\n",
    "elif (n % 2 == 0 and n % 3 == 0 ):\n",
    "    print(\"div by 2 and div by 3 also\")\n",
    "elif (n % 2 == 1 and n % 3 == 0 ):\n",
    "     print(\"div by 3 and not div by 2\")\n",
    "else:\n",
    "     print(\"not div by 2 and not div by 3\" )\n",
    "           \n",
    "    \n",
    "      "
   ]
  },
  {
   "cell_type": "markdown",
   "id": "c650a12f-5340-4882-b52d-7026b620f93d",
   "metadata": {},
   "source": [
    "## EXAMPLES"
   ]
  },
  {
   "cell_type": "code",
   "execution_count": 19,
   "id": "39033ec5-c789-4de6-83e5-778b2ed78a0d",
   "metadata": {},
   "outputs": [
    {
     "name": "stdout",
     "output_type": "stream",
     "text": [
      "can drive\n"
     ]
    }
   ],
   "source": [
    "age=24\n",
    "if( age >= 18 ):\n",
    "    print(\"can drive\")\n",
    "elif(age < 18):\n",
    "    print(\"not eligible for driving\")\n",
    "else:\n",
    "    print(\"cannot drive\")\n",
    "    "
   ]
  },
  {
   "cell_type": "code",
   "execution_count": 16,
   "id": "1be47168-1237-4a7d-b8f5-9cf161ec281e",
   "metadata": {},
   "outputs": [
    {
     "name": "stdout",
     "output_type": "stream",
     "text": [
      "pass\n"
     ]
    }
   ],
   "source": [
    " marks=76\n",
    "if( marks>= 35):\n",
    "    print(\"pass\")\n",
    "elif(marks <=35):\n",
    "    print(\"fail\")\n",
    "else:\n",
    "    print(\"resalt not show\")\n",
    "    \n",
    "    "
   ]
  },
  {
   "cell_type": "code",
   "execution_count": 22,
   "id": "3e0db9c8-9bf9-480c-8b45-c7c958b4564f",
   "metadata": {},
   "outputs": [
    {
     "name": "stdout",
     "output_type": "stream",
     "text": [
      "see colour\n"
     ]
    }
   ],
   "source": [
    "colour= (\"pink\")\n",
    "if(colour == \"red\"):\n",
    "    print(\"stop\")\n",
    "elif(colour == \"green\"):\n",
    "    print(\"go\")\n",
    "else:\n",
    "    print(\"see colour\")"
   ]
  },
  {
   "cell_type": "code",
   "execution_count": 21,
   "id": "b059f1d6-ea6f-48e1-a521-d71cec597203",
   "metadata": {},
   "outputs": [
    {
     "name": "stdout",
     "output_type": "stream",
     "text": [
      "bach 3\n"
     ]
    }
   ],
   "source": [
    "number= 23\n",
    "if(1<=number <= 10):\n",
    "    print(\"bach 1\")\n",
    "elif(11 <= number <= 20):\n",
    "    print(\"bach 2\")\n",
    "else:\n",
    "    print(\"bach 3\")\n",
    "    "
   ]
  },
  {
   "cell_type": "code",
   "execution_count": 25,
   "id": "0c15ada0-28d3-4144-9d0a-249293d72143",
   "metadata": {},
   "outputs": [
    {
     "name": "stdout",
     "output_type": "stream",
     "text": [
      "go outside\n"
     ]
    }
   ],
   "source": [
    "w= \"summer\"\n",
    "if(w == \"summer\"):\n",
    "    print(\"go outside\")\n",
    "elif(w== \"rainy\"):\n",
    "    print(\"steay home\")\n",
    "else:\n",
    "    print(\" go out\")"
   ]
  },
  {
   "cell_type": "code",
   "execution_count": null,
   "id": "a81cb41d-636b-45ee-9163-e0109ff8eedf",
   "metadata": {},
   "outputs": [],
   "source": []
  }
 ],
 "metadata": {
  "kernelspec": {
   "display_name": "Python 3 (ipykernel)",
   "language": "python",
   "name": "python3"
  },
  "language_info": {
   "codemirror_mode": {
    "name": "ipython",
    "version": 3
   },
   "file_extension": ".py",
   "mimetype": "text/x-python",
   "name": "python",
   "nbconvert_exporter": "python",
   "pygments_lexer": "ipython3",
   "version": "3.13.1"
  }
 },
 "nbformat": 4,
 "nbformat_minor": 5
}
