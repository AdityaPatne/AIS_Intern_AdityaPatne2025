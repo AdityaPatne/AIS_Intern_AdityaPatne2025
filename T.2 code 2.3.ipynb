{
 "cells": [
  {
   "cell_type": "markdown",
   "id": "5c25b352-2084-47ad-b0af-8bf06ccffe6c",
   "metadata": {},
   "source": [
    "# WHILE LOOP\n",
    "* With the while loop we can execute a set of statements as long as a condition is true."
   ]
  },
  {
   "cell_type": "markdown",
   "id": "96dff21b-a090-4298-bd6c-9ec75dc7fbc6",
   "metadata": {},
   "source": [
    "1.Q\n",
    "* 1)odd-even using while loop "
   ]
  },
  {
   "cell_type": "code",
   "execution_count": 1,
   "id": "94a3d730-6e2b-4c96-a695-6b3a17fed2e5",
   "metadata": {},
   "outputs": [
    {
     "name": "stdout",
     "output_type": "stream",
     "text": [
      "odd numbers form 1 to 25 :\n",
      "1\n",
      "3\n",
      "5\n",
      "7\n",
      "9\n",
      "11\n",
      "13\n",
      "15\n",
      "17\n",
      "19\n",
      "21\n",
      "23\n",
      "25\n"
     ]
    }
   ],
   "source": [
    "print(\"odd numbers form 1 to 25 :\")\n",
    "num = 1\n",
    "while num <= 25:\n",
    "    if num % 2 != 0:\n",
    "        print(num)\n",
    "    num += 1"
   ]
  },
  {
   "cell_type": "code",
   "execution_count": 4,
   "id": "3d76d9d3-1421-4854-bdfe-e6465614e35f",
   "metadata": {},
   "outputs": [
    {
     "name": "stdout",
     "output_type": "stream",
     "text": [
      "even numbers form 1 to 25:\n",
      "2\n",
      "4\n",
      "6\n",
      "8\n",
      "10\n",
      "12\n",
      "14\n",
      "16\n",
      "18\n",
      "20\n",
      "22\n",
      "24\n"
     ]
    }
   ],
   "source": [
    "print(\"even numbers form 1 to 25:\")\n",
    "num = 1\n",
    "while num <= 25:\n",
    "    if num % 2 == 0:\n",
    "        print(num)\n",
    "    num += 1"
   ]
  },
  {
   "cell_type": "markdown",
   "id": "3830749d-599b-4112-8af3-8b49a23517a3",
   "metadata": {},
   "source": [
    "2.Q\n",
    "*  using while print stars"
   ]
  },
  {
   "cell_type": "code",
   "execution_count": 5,
   "id": "57ab9d7f-ea23-42dc-810f-5170be67cf7d",
   "metadata": {},
   "outputs": [
    {
     "name": "stdout",
     "output_type": "stream",
     "text": [
      "*\n",
      "**\n",
      "***\n",
      "****\n",
      "*****\n"
     ]
    }
   ],
   "source": [
    "s = 5\n",
    "z = 1\n",
    "while z <= s :\n",
    "    print(\"*\" * z)\n",
    "    z+= 1"
   ]
  },
  {
   "cell_type": "markdown",
   "id": "a06d1e53-28bd-4a88-adfc-53db8240cd12",
   "metadata": {},
   "source": [
    "3.Q\n",
    "*  creat list 1-20 numbers list using while loop=> [1,2,3... 20]"
   ]
  },
  {
   "cell_type": "code",
   "execution_count": 6,
   "id": "724bc011-1d11-49f3-b6e9-e7750a867c76",
   "metadata": {},
   "outputs": [
    {
     "name": "stdout",
     "output_type": "stream",
     "text": [
      "[1, 2, 3, 4, 5, 6, 7, 8, 9, 10, 11, 12, 13, 14, 15, 16, 17, 18, 19, 20]\n"
     ]
    }
   ],
   "source": [
    "numbers = []\n",
    "x = 1\n",
    "\n",
    "while x <= 20:\n",
    "    numbers.append(x)\n",
    "    x += 1\n",
    "\n",
    "print(numbers)    "
   ]
  },
  {
   "cell_type": "code",
   "execution_count": null,
   "id": "66aa5340-d776-4fc1-a03d-5cbd8bc9e12c",
   "metadata": {},
   "outputs": [],
   "source": []
  }
 ],
 "metadata": {
  "kernelspec": {
   "display_name": "Python 3 (ipykernel)",
   "language": "python",
   "name": "python3"
  },
  "language_info": {
   "codemirror_mode": {
    "name": "ipython",
    "version": 3
   },
   "file_extension": ".py",
   "mimetype": "text/x-python",
   "name": "python",
   "nbconvert_exporter": "python",
   "pygments_lexer": "ipython3",
   "version": "3.13.1"
  }
 },
 "nbformat": 4,
 "nbformat_minor": 5
}
