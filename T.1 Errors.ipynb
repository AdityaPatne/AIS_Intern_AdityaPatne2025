{
 "cells": [
  {
   "cell_type": "markdown",
   "id": "355fae1e-0bda-4883-8117-24598167e0d1",
   "metadata": {},
   "source": [
    "# ERRORS IN PYTHON "
   ]
  },
  {
   "cell_type": "markdown",
   "id": "d877e2be-2c0d-48d4-9543-118163022786",
   "metadata": {},
   "source": [
    "### INDENTATION ERROR"
   ]
  },
  {
   "cell_type": "markdown",
   "id": "8233d609-faa7-48b6-a5dc-2fc8e24a8143",
   "metadata": {},
   "source": [
    "* An indentation error in Python occurs when the indentation of code doesn't follow Python's rules."
   ]
  },
  {
   "cell_type": "code",
   "execution_count": 2,
   "id": "7cef0e00-0943-4390-a1f4-0f2793b6f533",
   "metadata": {},
   "outputs": [
    {
     "ename": "SyntaxError",
     "evalue": "expected ':' (3667356967.py, line 1)",
     "output_type": "error",
     "traceback": [
      "\u001b[1;36m  Cell \u001b[1;32mIn[2], line 1\u001b[1;36m\u001b[0m\n\u001b[1;33m    if 8 > 3\u001b[0m\n\u001b[1;37m            ^\u001b[0m\n\u001b[1;31mSyntaxError\u001b[0m\u001b[1;31m:\u001b[0m expected ':'\n"
     ]
    }
   ],
   "source": [
    "if 8 > 3\n",
    "print(\"eight is greater then three\" ) # indentation error"
   ]
  },
  {
   "cell_type": "markdown",
   "id": "eb38c1ba-a741-4b75-bc1a-71e65b7aa2fc",
   "metadata": {},
   "source": [
    "### NAME ERROR"
   ]
  },
  {
   "cell_type": "markdown",
   "id": "d89929ee-f723-4621-b757-cf60ed40b0ad",
   "metadata": {},
   "source": [
    " * A NameError in Python occurs when a program attempts to use a variable, function, or module that doesn't exist or isn't accessible. "
   ]
  },
  {
   "cell_type": "code",
   "execution_count": null,
   "id": "0c720a3b-7384-4628-a20f-0434a7b968cc",
   "metadata": {},
   "outputs": [],
   "source": [
    "print (name_std.)# name error becose we have not deffind name_std. \n",
    "\n",
    "name_std.= (\"sham\")\n",
    "print(name_std.)#correct"
   ]
  },
  {
   "cell_type": "markdown",
   "id": "e35cff43-b360-4cb2-bd59-51cbd633e1d9",
   "metadata": {},
   "source": [
    "### value error"
   ]
  },
  {
   "cell_type": "markdown",
   "id": "bb47bc39-de8b-48b3-a38a-80dccb3970d6",
   "metadata": {},
   "source": [
    "* we gives incorrect values for datatype"
   ]
  },
  {
   "cell_type": "code",
   "execution_count": null,
   "id": "23dbb215-5134-416b-9b3c-92c8f67cc16f",
   "metadata": {},
   "outputs": [],
   "source": [
    "float(True)# the value error becose float gives boolian value\n",
    "\n",
    "x= float(4.8) #this types are correct value of float\n"
   ]
  },
  {
   "cell_type": "markdown",
   "id": "6bc953d1-d16e-4740-b387-50e2d4150742",
   "metadata": {},
   "source": [
    "### TYPE ERROR"
   ]
  },
  {
   "cell_type": "markdown",
   "id": "1604c9b0-5cbc-4680-a3e4-88980b5c3cac",
   "metadata": {},
   "source": [
    "*  There well not acsses diffrant types database in one time "
   ]
  },
  {
   "cell_type": "code",
   "execution_count": null,
   "id": "1ae2a766-ee0b-4071-ae3b-eeace29cc5a0",
   "metadata": {},
   "outputs": [],
   "source": [
    "number = \"ap\"+7 # we not adding string and no.\n",
    "\n",
    "number = 6+7 # correct"
   ]
  },
  {
   "cell_type": "markdown",
   "id": "a525e4c2-6afe-440d-9985-2ce27931d39d",
   "metadata": {},
   "source": [
    "### KEY ERROR "
   ]
  },
  {
   "cell_type": "markdown",
   "id": "72f056bf-5a9b-4ff8-860f-b8f1154fb2c8",
   "metadata": {},
   "source": [
    "* In dictionry if we acssesing same key bat that is not present in dict."
   ]
  },
  {
   "cell_type": "code",
   "execution_count": null,
   "id": "111bae0a-c414-4748-a8f8-9451a34fed3e",
   "metadata": {},
   "outputs": [],
   "source": [
    "dict={\"name\":\"aditya\",\n",
    "      \"roll_no.\":55}\n",
    "print(dict [\"gread\"])"
   ]
  },
  {
   "cell_type": "markdown",
   "id": "f078e6a2-95a0-472f-befc-f4f65bc2c6e5",
   "metadata": {},
   "source": [
    "### INDEX ERROR "
   ]
  },
  {
   "cell_type": "markdown",
   "id": "59a6c858-ae9e-4045-9640-9c3e34aec62e",
   "metadata": {},
   "source": [
    "* we dont have that values in index"
   ]
  },
  {
   "cell_type": "code",
   "execution_count": null,
   "id": "45b41ad5-19c2-48bf-b4d7-8a87d2e9a258",
   "metadata": {},
   "outputs": [],
   "source": [
    "index=[1,2,3,4]\n",
    "\n",
    "print(index[8])# this is not in index\n",
    "print(index[2])# correct"
   ]
  }
 ],
 "metadata": {
  "kernelspec": {
   "display_name": "Python 3 (ipykernel)",
   "language": "python",
   "name": "python3"
  },
  "language_info": {
   "codemirror_mode": {
    "name": "ipython",
    "version": 3
   },
   "file_extension": ".py",
   "mimetype": "text/x-python",
   "name": "python",
   "nbconvert_exporter": "python",
   "pygments_lexer": "ipython3",
   "version": "3.13.1"
  }
 },
 "nbformat": 4,
 "nbformat_minor": 5
}
