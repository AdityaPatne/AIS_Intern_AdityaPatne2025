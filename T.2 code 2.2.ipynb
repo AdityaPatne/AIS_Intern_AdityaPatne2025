{
 "cells": [
  {
   "cell_type": "markdown",
   "id": "524d932a-96a4-430b-b59c-5ada0d059ee1",
   "metadata": {},
   "source": [
    "# FOR LOOP"
   ]
  },
  {
   "cell_type": "markdown",
   "id": "f3706e19-a53c-4875-8447-f5a21e4f0118",
   "metadata": {},
   "source": [
    "1.Q\n",
    "  * print odd value between 20 and 80, without using if. Using for loop only.\n",
    "    "
   ]
  },
  {
   "cell_type": "code",
   "execution_count": 13,
   "id": "125c97c3-a5dc-4ce5-964d-35ccfcb49049",
   "metadata": {},
   "outputs": [
    {
     "name": "stdout",
     "output_type": "stream",
     "text": [
      "[21, 23, 25, 27, 29, 31, 33, 35, 37, 39, 41, 43, 45, 47, 49, 51, 53, 55, 57, 59, 61, 63, 65, 67, 69, 71, 73, 75, 77, 79]\n"
     ]
    }
   ],
   "source": [
    "start = 20\n",
    "end = 80\n",
    "odd_numbers = [num for num in range(start, end + 1)\n",
    "                 if num % 2 != 0]\n",
    "print(odd_numbers)"
   ]
  },
  {
   "cell_type": "markdown",
   "id": "54d0a645-e5b2-4e65-a13f-c780b71c27ab",
   "metadata": {},
   "source": [
    "2.Q\n",
    " *  creat a list of 1 to 20 number using for loop [1,2,3..20]"
   ]
  },
  {
   "cell_type": "code",
   "execution_count": 24,
   "id": "50bc6a53-b991-44e5-b29d-b44570a351fa",
   "metadata": {},
   "outputs": [
    {
     "name": "stdout",
     "output_type": "stream",
     "text": [
      "1\n",
      "2\n",
      "3\n",
      "4\n",
      "5\n",
      "6\n",
      "7\n",
      "8\n",
      "9\n",
      "10\n",
      "11\n",
      "12\n",
      "13\n",
      "14\n",
      "15\n",
      "16\n",
      "17\n",
      "18\n",
      "19\n"
     ]
    }
   ],
   "source": [
    "for x in range(1,20):\n",
    "    print(x)"
   ]
  },
  {
   "cell_type": "markdown",
   "id": "7e269caa-93b0-4284-8d67-a2c760f6e3af",
   "metadata": {},
   "source": [
    "3.Q\n",
    " * 3)create a  list of 20 to 1 value using  for loop (dont Use Reverse)\n",
    "[20,19,18,...3,2,1]"
   ]
  },
  {
   "cell_type": "code",
   "execution_count": 34,
   "id": "9cf98f44-379f-4c73-b15e-5e8deb8f4613",
   "metadata": {},
   "outputs": [
    {
     "name": "stdout",
     "output_type": "stream",
     "text": [
      "[20, 19, 18, 17, 16, 15, 14, 13, 12, 11, 10, 9, 8, 7, 6, 5, 4, 3, 2, 1]\n"
     ]
    }
   ],
   "source": [
    "a = [1,2,3,4,5,6,7,8,9,10,11,12,13,14,15,16,17,18,19,20]\n",
    "rev = [a[i] for i in range(len(a) - 1, -1, -1)]\n",
    "print(rev)\n",
    "\n",
    "    "
   ]
  },
  {
   "cell_type": "markdown",
   "id": "cda2599d-c40d-43d6-8db5-663ea1c69c2f",
   "metadata": {},
   "source": [
    "4.Q\n",
    " *  4)take Cube of odd values between 20 to 40\n"
   ]
  },
  {
   "cell_type": "code",
   "execution_count": 40,
   "id": "8e81f45b-b955-4dea-996a-c9aa9ae7a9db",
   "metadata": {},
   "outputs": [
    {
     "name": "stdout",
     "output_type": "stream",
     "text": [
      "9261 12167 15625 19683 24389 29791 35937 42875 50653 59319 "
     ]
    }
   ],
   "source": [
    "for x in range(20,40):\n",
    "      if(x%2 == 1):\n",
    "        print(x*x*x,end = \" \")"
   ]
  },
  {
   "cell_type": "markdown",
   "id": "7351094b-748c-4f0d-9c77-89e3c94cac81",
   "metadata": {},
   "source": [
    "5.Q\n",
    "\n",
    "*  take 5 freinds name in list name=[a,b,c,d,e]\n",
    "take corresponding ages in second list age = [20,21,23,25,24]\n",
    "* expected ans:\n",
    "  *  my name is a , my age is 20\n",
    "  * my name is b, my age is 21"
   ]
  },
  {
   "cell_type": "code",
   "execution_count": 6,
   "id": "4b1ce747-415f-42fd-aa64-dbd77f6c5655",
   "metadata": {},
   "outputs": [
    {
     "name": "stdout",
     "output_type": "stream",
     "text": [
      "my name is sham , my age is 20\n",
      "my name is rohan , my age is 21\n",
      "my name is roshan , my age is 23\n",
      "my name is om , my age is 25\n",
      "my name is karen , my age is 24\n"
     ]
    }
   ],
   "source": [
    "names = [\"sham\",\"rohan\",\"roshan\",\"om\",\"karen\"]\n",
    "ages = [20,21,23,25,24]\n",
    "for name , age in zip(names,ages):\n",
    "     print(f\"my name is {name} , my age is {age}\")"
   ]
  },
  {
   "cell_type": "code",
   "execution_count": null,
   "id": "1424dbb7-339e-4dfe-aa88-041ba29fc0be",
   "metadata": {},
   "outputs": [],
   "source": []
  }
 ],
 "metadata": {
  "kernelspec": {
   "display_name": "Python 3 (ipykernel)",
   "language": "python",
   "name": "python3"
  },
  "language_info": {
   "codemirror_mode": {
    "name": "ipython",
    "version": 3
   },
   "file_extension": ".py",
   "mimetype": "text/x-python",
   "name": "python",
   "nbconvert_exporter": "python",
   "pygments_lexer": "ipython3",
   "version": "3.13.1"
  }
 },
 "nbformat": 4,
 "nbformat_minor": 5
}
