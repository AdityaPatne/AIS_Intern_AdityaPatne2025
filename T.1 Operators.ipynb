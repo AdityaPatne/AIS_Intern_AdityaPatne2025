{
 "cells": [
  {
   "cell_type": "markdown",
   "id": "5e1e0f4f-3e28-421c-8199-bb844f3d9fe3",
   "metadata": {},
   "source": [
    "# OPRATORS IN PYTHON"
   ]
  },
  {
   "cell_type": "markdown",
   "id": "c2e2bb59-e804-4b4e-8738-90af749cc59b",
   "metadata": {},
   "source": [
    "*Opretors are meny types\n",
    "\n",
    "1. Arithmetic operators\n",
    "2. Assignment operators\n",
    "3. Comparison operators\n",
    "4. Logical operators\n",
    "5. Identity operators\n",
    "6. Membership operators\n",
    "7. Bitwise operators\n",
    "8. Mathematica operators"
   ]
  },
  {
   "cell_type": "markdown",
   "id": "c68e5948-3b8f-4460-8d75-2dddc0ce642d",
   "metadata": {},
   "source": [
    "### comparision oprators\n"
   ]
  },
  {
   "cell_type": "code",
   "execution_count": 2,
   "id": "4cde356c-29f2-430d-b570-4e6b44eac7ed",
   "metadata": {},
   "outputs": [
    {
     "name": "stdout",
     "output_type": "stream",
     "text": [
      "False\n",
      "True\n",
      "False\n",
      "True\n"
     ]
    }
   ],
   "source": [
    "x=59\n",
    "y=24\n",
    "\n",
    "print(x==y)#compar for equility\n",
    "print(x!=y) # compar for notequility\n",
    "print(x<=y) #compar for less then equal\n",
    "print(x>=y) #compar for greter then equal\n",
    "\n"
   ]
  },
  {
   "cell_type": "markdown",
   "id": "ef0d88db-8cbf-40c8-b694-c85de80f8e68",
   "metadata": {},
   "source": [
    "### Logical Operators\n"
   ]
  },
  {
   "cell_type": "code",
   "execution_count": 3,
   "id": "c6d24391-f71a-4129-b9ad-c818244fba06",
   "metadata": {},
   "outputs": [
    {
     "name": "stdout",
     "output_type": "stream",
     "text": [
      "True\n",
      "True\n"
     ]
    }
   ],
   "source": [
    "x=46\n",
    "y=26\n",
    "\n",
    "print(x<98 and y>20) #and opratr show true if both are true else retuen false\n",
    "print(x<98 or y>20) #show true if one value is true\n"
   ]
  },
  {
   "cell_type": "markdown",
   "id": "b8229f93-5e8b-47ab-826b-20a642e504ea",
   "metadata": {},
   "source": [
    "### Assignment Operators"
   ]
  },
  {
   "cell_type": "code",
   "execution_count": 5,
   "id": "84f0c3c0-6e55-44ed-bbb9-ae47b7bb9cd0",
   "metadata": {},
   "outputs": [
    {
     "name": "stdout",
     "output_type": "stream",
     "text": [
      "43\n",
      "112\n"
     ]
    }
   ],
   "source": [
    "\n",
    "a=32\n",
    "a-=12\n",
    "a+=23\n",
    "\n",
    "print(a)\n",
    "\n",
    "b=56\n",
    "b*=2\n",
    "print(b)"
   ]
  },
  {
   "cell_type": "markdown",
   "id": "5a0dc522-52e3-4b75-b529-5091635b487c",
   "metadata": {},
   "source": [
    "### Mathematica operators"
   ]
  },
  {
   "cell_type": "code",
   "execution_count": 4,
   "id": "5c0fc069-e894-4a54-83b6-f5bf772c227c",
   "metadata": {},
   "outputs": [
    {
     "name": "stdout",
     "output_type": "stream",
     "text": [
      "add 83\n",
      "sub 35\n",
      "modulus 11\n"
     ]
    }
   ],
   "source": [
    "\n",
    "x=59\n",
    "y=24\n",
    "\n",
    "print(\"add\", x+y) #addition\n",
    "print(\"sub\", x-y) #substraction\n",
    "print(\"modulus\", x%y) #modulus\n",
    "\n",
    "\n",
    "\n",
    "\n"
   ]
  }
 ],
 "metadata": {
  "kernelspec": {
   "display_name": "Python 3 (ipykernel)",
   "language": "python",
   "name": "python3"
  },
  "language_info": {
   "codemirror_mode": {
    "name": "ipython",
    "version": 3
   },
   "file_extension": ".py",
   "mimetype": "text/x-python",
   "name": "python",
   "nbconvert_exporter": "python",
   "pygments_lexer": "ipython3",
   "version": "3.13.1"
  }
 },
 "nbformat": 4,
 "nbformat_minor": 5
}
